{
 "cells": [
  {
   "cell_type": "code",
   "execution_count": 1,
   "metadata": {
    "scrolled": false
   },
   "outputs": [
    {
     "name": "stdout",
     "output_type": "stream",
     "text": [
      "scanpy==1.4.3+56.g709bafb anndata==0.6.17 umap==0.3.8 numpy==1.16.2 scipy==1.2.0 pandas==0.24.1 scikit-learn==0.20.2 statsmodels==0.9.0 python-igraph==0.7.1 louvain==0.6.1\n"
     ]
    }
   ],
   "source": [
    "import os\n",
    "import gzip\n",
    "import numpy as np\n",
    "import pandas as pd\n",
    "import scanpy.api as sc\n",
    "import matplotlib.pyplot as plt\n",
    "import seaborn as sns\n",
    "import umap\n",
    "import statsmodels.api as sm\n",
    "import sklearn.preprocessing\n",
    "import scipy\n",
    "import scipy.sparse\n",
    "import sklearn.metrics\n",
    "import sklearn.mixture\n",
    "import sklearn.linear_model\n",
    "from anndata import AnnData\n",
    "sc.settings.set_figure_params(dpi=100)\n",
    "sc.settings.verbosity = 3  # verbosity: errors (0), warnings (1), info (2), hints (3)\n",
    "#%load_ext rpy2.ipython\n",
    "sns.set(font_scale=1.5)\n",
    "plt.style.use('seaborn-white')\n",
    "%matplotlib inline\n",
    "import sklearn.mixture\n",
    "\n",
    "%load_ext rpy2.ipython\n",
    "\n",
    "sc.logging.print_versions()"
   ]
  },
  {
   "cell_type": "code",
   "execution_count": 2,
   "metadata": {
    "tags": [
     "parameters"
    ]
   },
   "outputs": [],
   "source": [
    "samples = ['JYH_854_1_2','JYH_855_1_2','JYH_856_1_2','JYH_857_1_2']\n",
    "sample_names=['Veh','OTX','PDL1','OP']\n",
    "output_dir ='immune_rep2'"
   ]
  },
  {
   "cell_type": "markdown",
   "metadata": {},
   "source": [
    "## Round 1: merge, normalize, filter windows and cluster"
   ]
  },
  {
   "cell_type": "code",
   "execution_count": null,
   "metadata": {},
   "outputs": [],
   "source": [
    "adatas = []\n",
    "wd = os.getcwd()\n",
    "for sample in samples:\n",
    "    adata = sc.read_h5ad(\n",
    "        os.path.join(wd, sample, '{0}.adata.h5ad'.format(sample)))\n",
    "    doublet_res = pd.read_csv(os.path.join(\n",
    "        wd,sample, '{}.doublet_result.txt'.format(sample)),\n",
    "                              index_col=0)\n",
    "    doublet_res['doublet_quantile'] = (doublet_res.doublet_scores.rank() /\n",
    "                                       len(doublet_res.doublet_scores))\n",
    "    adata.obs = pd.merge(adata.obs, doublet_res, how='left', on='index')\n",
    "    adatas.append(\n",
    "        AnnData(\n",
    "            adata.raw.X,\n",
    "            var=adata.raw.var,\n",
    "            obs=adata.obs,\n",
    "            raw=adata.raw,\n",
    "        ))\n",
    "del adata\n",
    "sc.logging.print_memory_usage()"
   ]
  },
  {
   "cell_type": "code",
   "execution_count": null,
   "metadata": {},
   "outputs": [],
   "source": [
    "adata_merged = AnnData.concatenate(*adatas,\n",
    "                                   batch_key='treat',\n",
    "                                   index_unique=None)\n",
    "adata_merged.obs['treat']=['_'.join(i.split('_')[:-1]) for i in adata_merged.obs.index]\n",
    "adata_merged.obs['log10_unique_usable_reads'] = np.log10(adata_merged.obs['unique_usable_reads'])\n",
    "\n",
    "del adatas\n",
    "sc.logging.print_memory_usage()"
   ]
  },
  {
   "cell_type": "code",
   "execution_count": null,
   "metadata": {},
   "outputs": [],
   "source": [
    "adata_merged_raw = adata_merged.copy() #log1p already\n",
    "adata_merged.X =adata_merged.X.expm1() # change back to cnt\n",
    "sc.logging.print_memory_usage()\n",
    "adata_merged"
   ]
  },
  {
   "cell_type": "code",
   "execution_count": null,
   "metadata": {},
   "outputs": [],
   "source": [
    "sc.pp.normalize_per_cell(adata_merged, counts_per_cell_after=1e4)\n",
    "adata_merged_filter = sc.pp.filter_genes_dispersion(adata_merged.X, flavor='seurat', n_bins=50)\n",
    "hvgs = adata_merged.var.loc[adata_merged_filter.gene_subset].index.tolist()\n",
    "\n",
    "for sample in samples:\n",
    "    adata_merged.var[sample] = (adata_merged_raw.X > 0)[adata_merged.obs.index.str.contains(sample),:].sum(axis=0).A1\n",
    "hvgs = adata_merged.var.loc[adata_merged.var.index.isin(hvgs)]\n",
    "hvgs = (hvgs>0).all(1).index\n",
    "adata_merged.var = adata_merged.var.drop(samples, axis=1)"
   ]
  },
  {
   "cell_type": "code",
   "execution_count": null,
   "metadata": {},
   "outputs": [],
   "source": [
    "## regress out depth for each sample\n",
    "adata_ind = []\n",
    "for sample in samples:\n",
    "    adata = adata_merged[adata_merged.obs.index.str.contains(sample +\n",
    "                                                             '_'), :].copy()\n",
    "    adata = adata[:, adata.var.index.isin(hvgs)]\n",
    "    sc.pp.log1p(adata)\n",
    "    adata_raw = adata_merged_raw[adata_merged_raw.obs.index.str.\n",
    "                                     contains(sample + '_'), :].copy()\n",
    "    adata.obs['log10_usable_counts'] = np.log10(\n",
    "        adata_raw[:, adata_raw.var.index.isin(hvgs)].X.expm1().sum(\n",
    "            axis=1).A1)\n",
    "    sc.pp.regress_out(adata, ['log10_usable_counts'])\n",
    "    adata_ind.append(adata)\n",
    "\n",
    "adata=adata_raw = None\n",
    "sc.logging.print_memory_usage()"
   ]
  },
  {
   "cell_type": "code",
   "execution_count": null,
   "metadata": {},
   "outputs": [],
   "source": [
    "adata_norm = AnnData.concatenate(*adata_ind,\n",
    "                                 batch_key='norm',\n",
    "                                 index_unique=None)\n",
    "adata_norm.raw = adata_merged_raw.copy()\n",
    "adata_ind = adata_merged = adata_merged_raw = None\n",
    "sc.pp.scale(adata_norm)\n",
    "sc.tl.pca(adata_norm, zero_center=False, random_state=0)\n",
    "pc = pd.DataFrame(adata_norm.obsm['X_pca'],\n",
    "                  columns=['PC{}'.format(i) for i in range(1, 51)],\n",
    "                  index=adata_norm.obs.index)\n",
    "treat = adata_norm.obs['treat'].tolist()\n",
    "sc.logging.print_memory_usage()"
   ]
  },
  {
   "cell_type": "code",
   "execution_count": null,
   "metadata": {},
   "outputs": [],
   "source": [
    "%%R -i pc -i treat -o harmonized\n",
    ".libPaths(c('/usr/lib64/R/library','/usr/share/R/library'))\n",
    "\n",
    "library(harmony)\n",
    "library(magrittr)\n",
    "\n",
    "treat <- as.factor(unlist(treat))\n",
    "harmonized <- HarmonyMatrix(pc, treat,do_pca=FALSE)\n",
    "harmonized <- data.frame(harmonized)"
   ]
  },
  {
   "cell_type": "code",
   "execution_count": null,
   "metadata": {},
   "outputs": [],
   "source": [
    "adata_norm.obsm['X_pca'] = harmonized.values #pc.values\n",
    "sc.pp.neighbors(adata_norm, n_neighbors=30, method='umap', metric='cosine', random_state=0, n_pcs=50)\n",
    "sc.tl.leiden(adata_norm, resolution=1, random_state=0)\n",
    "sc.tl.umap(adata_norm, min_dist=0.3, random_state=0)"
   ]
  },
  {
   "cell_type": "code",
   "execution_count": null,
   "metadata": {},
   "outputs": [],
   "source": [
    "fig, axs = plt.subplots(2, 2, figsize=(12, 8))\n",
    "\n",
    "## 1\n",
    "sc.pl.umap(adata_norm,\n",
    "           color=['leiden'],\n",
    "           size=9,\n",
    "           legend_loc='on data',\n",
    "           ax=axs[0, 0],\n",
    "           show=False)\n",
    "\n",
    "## 2\n",
    "sc.pl.umap(adata_norm, color=['treat'], size=9, ax=axs[0, 1], show=False)\n",
    "\n",
    "## 3\n",
    "cell_per_cluster = adata_norm.obs.groupby(\n",
    "    [\"leiden\",\n",
    "     \"treat\"]).size().reset_index(name=\"Cells\").pivot_table(index='leiden',\n",
    "                                                            columns='treat',\n",
    "                                                            values='Cells',\n",
    "                                                            fill_value=0)\n",
    "\n",
    "pd = cell_per_cluster  #.apply(lambda x: round(x / x.sum(),3)*100)\n",
    "pd.plot(\n",
    "    kind='bar',\n",
    "    stacked=True,\n",
    "    legend=False,\n",
    "    ax=axs[1, 0],\n",
    ")\n",
    "axs[1, 0].set_ylabel('Cell count')\n",
    "#patches, labels = axs[1,0].get_legend_handles_labels()\n",
    "#axs[1,0].legend(patches, labels, loc='upper left', bbox_to_anchor=(1,1))\n",
    "\n",
    "## 4\n",
    "pd = cell_per_cluster.apply(\n",
    "    lambda x: round(x / x.sum(), 3) * 100,\n",
    "    axis=1,\n",
    ")\n",
    "pd.plot(kind='bar', stacked=True, legend=False, ax=axs[1, 1])\n",
    "axs[1, 1].set_ylabel('Percentage')\n",
    "#patches, labels = axs[1,1].get_legend_handles_labels()\n",
    "#axs[1,1].legend(patches, labels, loc='upper left', bbox_to_anchor=(1,1))\n",
    "\n",
    "plt.tight_layout()\n",
    "plt.show()"
   ]
  },
  {
   "cell_type": "code",
   "execution_count": null,
   "metadata": {},
   "outputs": [],
   "source": [
    "import math\n",
    "n_sample = len(sample_names)\n",
    "n_col = math.ceil(n_sample / 2)\n",
    "\n",
    "fig, axs = plt.subplots(2, n_col, figsize=(3*n_col,6), sharex=True,sharey=True)\n",
    "i = 0\n",
    "for ax in axs.reshape(-1):\n",
    "    if i < n_sample:\n",
    "        sc.pl.umap(\n",
    "            adata_norm[adata_norm.obs.treat == samples[i]],\n",
    "            color=['treat'],\n",
    "            size=9,\n",
    "            ax=ax,\n",
    "            show=False,\n",
    "            title=sample_names[i],\n",
    "        ).get_legend().remove()\n",
    "    i += 1\n",
    "plt.tight_layout()\n",
    "plt.show()"
   ]
  },
  {
   "cell_type": "code",
   "execution_count": null,
   "metadata": {},
   "outputs": [],
   "source": [
    "fig, axs = plt.subplots(2, 3, figsize=(12, 6),sharex=True)\n",
    "i=0\n",
    "to_plot=[\n",
    "        'log10_usable_counts','frac_reads_in_peaks', 'frac_reads_in_promoters',\n",
    "        'frac_promoters_used', 'frac_mito_reads', 'doublet_quantile'\n",
    "]\n",
    "\n",
    "for ax in axs.reshape(-1): \n",
    "    sns.boxplot(x='leiden', y=to_plot[i], data=adata_norm.obs,ax=ax)\n",
    "    ax.set_xlabel('')\n",
    "    ax.set_ylabel('')\n",
    "    ax.set_title(to_plot[i])\n",
    "    i+=1\n",
    "plt.tight_layout()\n",
    "plt.show()\n",
    "\n",
    "fig, axs = plt.subplots(2, 3, figsize=(12, 6), sharex=True)\n",
    "i = 0\n",
    "\n",
    "for ax in axs.reshape(-1):\n",
    "    sc.pl.umap(adata_norm,\n",
    "               color=to_plot[i],\n",
    "               cmap='Blues' if i==0 else'Reds',\n",
    "               size=9,\n",
    "               ax=ax,\n",
    "               show=False,\n",
    "               legend_loc='on data')\n",
    "    i+=1\n",
    "\n",
    "plt.tight_layout()\n",
    "plt.show()"
   ]
  },
  {
   "cell_type": "markdown",
   "metadata": {},
   "source": [
    "## feature genes "
   ]
  },
  {
   "cell_type": "code",
   "execution_count": null,
   "metadata": {},
   "outputs": [],
   "source": [
    "sns.set(font_scale=1)\n",
    "plt.style.use('default')\n",
    "\n",
    "marker_genes_dic_2 = {\n",
    "    'Tcell': [\"Cd3e.1\", \"Cd4.1\", \"Cd8a\", 'Tcf7'],\n",
    "    'Macrophage': ['Adgre1', 'Eif4a1', 'RP23-144N15.4', 'Cx3cr1'],\n",
    "    'B_cells': [\n",
    "        \"Cd79b\",\n",
    "        \"Mzb1\",\n",
    "    ],\n",
    "    'Epithelial Cell': ['Krt19.1'],\n",
    "    'Fib': ['Col1a2', 'Col1a2.1', 'Col1a2.2', 'Col1a2.3', 'Col1a2.4', 'Acta2'],\n",
    "    'Neutrophil':\n",
    "    [\"Ly6g\", \"Cebpe\", \"Csf3r\", 'Lcn2', 'Ltf', 'S100a8', 'S100a9'],\n",
    "    'NK': ['Klrc1'],\n",
    "    'DCs': [\"Cd209a\", \"Cd74\", \"Flt3\", \"H2-Eb1\", 'Itgax'],  # 'Itgax'-> Cd11c\n",
    "    'MHC-II': [\"H2-Aa\", \"H2-Ab1\", \"H2-Eb1\"],  #\"\n",
    "}\n",
    "\n",
    "ax = sc.pl.matrixplot(adata_norm,\n",
    "                      var_names=marker_genes_dic_2,\n",
    "                      cmap='Reds',\n",
    "                      dendrogram=True,\n",
    "                      groupby='leiden',\n",
    "                      use_raw=True)\n",
    "\n",
    "ax = sc.pl.matrixplot(adata_norm,\n",
    "                      var_names=marker_genes_dic_2,\n",
    "                      cmap='Reds',\n",
    "                      dendrogram=True,\n",
    "                      groupby='leiden',\n",
    "                      standard_scale='var',\n",
    "                      use_raw=True)\n",
    "\n",
    "ax = sc.pl.dotplot(adata_norm,\n",
    "                   marker_genes_dic_2,\n",
    "                   groupby='leiden',\n",
    "                   dendrogram=True,\n",
    "                   use_raw=True,\n",
    "                   expression_cutoff=0)"
   ]
  },
  {
   "cell_type": "code",
   "execution_count": null,
   "metadata": {},
   "outputs": [],
   "source": [
    "sns.set(font_scale=1)\n",
    "plt.style.use('default')\n",
    "\n",
    "import json\n",
    "with open('./marker_genes_gecodeVm17_tr.json', 'r') as f:\n",
    "    marker_genes_dic = json.load(f)\n",
    "\n",
    "ax = sc.pl.matrixplot(adata_norm,\n",
    "                      var_names=marker_genes_dic,\n",
    "                      cmap='Reds',\n",
    "                      dendrogram=True,\n",
    "                      groupby='leiden',\n",
    "                      use_raw=True)\n",
    "\n",
    "ax = sc.pl.matrixplot(adata_norm,\n",
    "                      var_names=marker_genes_dic,\n",
    "                      cmap='Reds',\n",
    "                      dendrogram=True,\n",
    "                      groupby='leiden',\n",
    "                      standard_scale='var',\n",
    "                      use_raw=True)\n",
    "\n",
    "ax = sc.pl.dotplot(adata_norm,\n",
    "                   marker_genes_dic,\n",
    "                   groupby='leiden',\n",
    "                   dendrogram=True,\n",
    "                   use_raw=True,\n",
    "                   expression_cutoff=0)"
   ]
  },
  {
   "cell_type": "markdown",
   "metadata": {},
   "source": [
    "## save Data"
   ]
  },
  {
   "cell_type": "code",
   "execution_count": null,
   "metadata": {},
   "outputs": [],
   "source": [
    "adata_norm.write(filename=os.path.join(output_dir, 'clustering_merge.adata.h5ad'))\n",
    "\n",
    "adata_norm"
   ]
  }
 ],
 "metadata": {
  "celltoolbar": "Tags",
  "kernelspec": {
   "display_name": "Python 3",
   "language": "python",
   "name": "python3"
  },
  "language_info": {
   "codemirror_mode": {
    "name": "ipython",
    "version": 3
   },
   "file_extension": ".py",
   "mimetype": "text/x-python",
   "name": "python",
   "nbconvert_exporter": "python",
   "pygments_lexer": "ipython3",
   "version": "3.6.7"
  }
 },
 "nbformat": 4,
 "nbformat_minor": 2
}
