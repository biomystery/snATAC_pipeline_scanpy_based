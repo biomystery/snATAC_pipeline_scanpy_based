{
 "cells": [
  {
   "cell_type": "code",
   "execution_count": null,
   "metadata": {},
   "outputs": [],
   "source": [
    "%matplotlib inline\n",
    "import scrublet as scr\n",
    "import scipy.io\n",
    "import matplotlib.pyplot as plt\n",
    "import numpy as np\n",
    "import os\n",
    "from anndata import AnnData\n",
    "import scanpy.api as sc\n",
    "import seaborn as sns"
   ]
  },
  {
   "cell_type": "markdown",
   "metadata": {},
   "source": [
    "## Run scrublet using log counts & scale\n"
   ]
  },
  {
   "cell_type": "code",
   "execution_count": null,
   "metadata": {
    "scrolled": true,
    "tags": [
     "parameters"
    ]
   },
   "outputs": [],
   "source": [
    "sample_name = \"JYH_857_1_2\"\n",
    "neotic_ratio= .5"
   ]
  },
  {
   "cell_type": "code",
   "execution_count": null,
   "metadata": {
    "scrolled": true
   },
   "outputs": [],
   "source": [
    "wd = os.path.join(os.getcwd(),sample_name)\n",
    "adata = sc.read_h5ad(\n",
    "    filename=os.path.join(wd, '{}.adata.h5ad'.format(sample_name)))\n",
    "adata"
   ]
  },
  {
   "cell_type": "markdown",
   "metadata": {},
   "source": [
    "low_frip = open(os.path.join(\n",
    "    wd, '{0}.filtered.txt'.format(sample_name))).read().splitlines()\n",
    "adata = adata[(~adata.obs.index.isin(low_frip)),:].copy()\n",
    "adata\n"
   ]
  },
  {
   "cell_type": "markdown",
   "metadata": {},
   "source": [
    "1. Using the most varible genomic bins as genes to input to scrublet (consistent with clustering steps). \n",
    "2. Converted to counts "
   ]
  },
  {
   "cell_type": "code",
   "execution_count": null,
   "metadata": {},
   "outputs": [],
   "source": [
    "expected_doublet_th=adata.shape[0]/1000*.01*neotic_ratio\n",
    "expected_doublet_th"
   ]
  },
  {
   "cell_type": "code",
   "execution_count": null,
   "metadata": {},
   "outputs": [],
   "source": [
    "adata_raw = adata.raw.copy()\n",
    "adata_raw= adata_raw[:,adata_raw.var.index.isin(adata.var_names.tolist())]\n",
    "counts_matris_2 = adata_raw.X.expm1()\n",
    "del adata_raw"
   ]
  },
  {
   "cell_type": "code",
   "execution_count": null,
   "metadata": {},
   "outputs": [],
   "source": [
    "scrub = scr.Scrublet(counts_matris_2, expected_doublet_rate=expected_doublet_th)\n",
    "doublet_scores, predicted_doublets = scrub.scrub_doublets(\n",
    "    distance_metric='cosine',\n",
    "    mean_center=False,\n",
    "    n_prin_comps=50,\n",
    "    log_transform=True,\n",
    "    min_gene_variability_pctl=0)\n",
    "scrub.plot_histogram()"
   ]
  },
  {
   "cell_type": "code",
   "execution_count": null,
   "metadata": {},
   "outputs": [],
   "source": [
    "predicted_doublets = scrub.call_doublets(threshold=np.quantile(\n",
    "    doublet_scores, 1-expected_doublet_th))  # directly call by trheshold\n",
    "print(sum(predicted_doublets))\n",
    "print(sum(predicted_doublets)/len(predicted_doublets))"
   ]
  },
  {
   "cell_type": "code",
   "execution_count": null,
   "metadata": {
    "scrolled": false
   },
   "outputs": [],
   "source": [
    "adata.obs['doublet_score'] = doublet_scores\n",
    "adata.obs['doublet'] = predicted_doublets\n",
    "adata.obs['log10_unique_usable_reads'] = np.log10(\n",
    "    adata.obs['unique_usable_reads'] + 1)\n",
    "\n",
    "adata_doub=adata[predicted_doublets].copy()\n",
    "adata_nondoub=adata[~predicted_doublets].copy()\n",
    "import pandas as pd\n",
    "doub_sum = pd.concat([\n",
    "    adata_doub.obs.leiden.value_counts(),\n",
    "    adata_nondoub.obs.leiden.value_counts(),\n",
    "    adata.obs.leiden.value_counts()\n",
    "],axis=1)\n",
    "doub_sum.columns=['doublet','non_doublet','init']\n",
    "doub_sum['pertage']=round(doub_sum['doublet']/doub_sum['init']*100)\n",
    "doub_sum"
   ]
  },
  {
   "cell_type": "code",
   "execution_count": null,
   "metadata": {
    "scrolled": false
   },
   "outputs": [],
   "source": [
    "fig, axs = plt.subplots(2, 3, figsize=(12, 8))\n",
    "i = 0\n",
    "to_plot = [\n",
    "    'log10_unique_usable_reads', 'frac_promoters_used', 'doublet_score',\n",
    "    'doublet', 'leiden'\n",
    "]\n",
    "for ax in axs.reshape(-1):\n",
    "\n",
    "    if (i == 5):\n",
    "        doub_sum.loc[:, ~doub_sum.columns.isin(['pertage', 'init'])].plot.bar(\n",
    "            stacked=True, ax=ax)\n",
    "    else:\n",
    "        sc.pl.umap(adata,\n",
    "                   color=to_plot[i],\n",
    "                   cmap='Blues' if i == 0 else 'Reds',\n",
    "                   size=9,\n",
    "                   ax=ax,\n",
    "                   show=False,\n",
    "                   legend_loc='on data')\n",
    "    i += 1\n",
    "\n",
    "plt.tight_layout()\n",
    "plt.show()\n",
    "\n",
    "fig, axs = plt.subplots(2, 3, figsize=(12, 6),sharex=True)\n",
    "i=0\n",
    "to_plot=[\n",
    "        'log10_usable_counts','frac_reads_in_peaks', 'frac_reads_in_promoters',\n",
    "        'frac_promoters_used', 'doublet_score', 'frac_duplicated_reads'\n",
    "]\n",
    "\n",
    "for ax in axs.reshape(-1): \n",
    "    sns.boxplot(x='leiden', y=to_plot[i], data=adata.obs,ax=ax)\n",
    "    ax.set_xlabel('')\n",
    "    ax.set_ylabel('')\n",
    "    ax.set_title(to_plot[i])\n",
    "    i+=1\n",
    "plt.tight_layout()\n",
    "plt.show()\n",
    "\n",
    "fig, axs = plt.subplots(2, 3, figsize=(12, 6), sharex=True)\n",
    "i = 0\n",
    "for ax in axs.reshape(-1):\n",
    "    sc.pl.umap(adata,\n",
    "               color=to_plot[i],\n",
    "               cmap='Blues' if i==0 else'Reds',\n",
    "               size=9,\n",
    "               ax=ax,\n",
    "               show=False,\n",
    "               legend_loc='on data')\n",
    "    i+=1\n",
    "\n",
    "plt.tight_layout()\n",
    "plt.show()"
   ]
  },
  {
   "cell_type": "code",
   "execution_count": null,
   "metadata": {},
   "outputs": [],
   "source": [
    "adata.obs['doublet_score'] = doublet_scores\n",
    "adata.obs['doublet'] = predicted_doublets\n",
    "adata.obs['log10_unique_usable_reads'] = np.log10(\n",
    "    adata.obs['unique_usable_reads'] + 1)\n",
    "\n",
    "fig, axs = plt.subplots(2, 3, figsize=(12, 8))\n",
    "i = 0\n",
    "to_plot = [\n",
    "    'log10_unique_usable_reads', 'frac_promoters_used', 'doublet_score',\n",
    "    'doublet', 'leiden'\n",
    "]\n",
    "for ax in axs.reshape(-1):\n",
    "\n",
    "    if (i == 5):\n",
    "        doub_sum.loc[:, ~doub_sum.columns.isin(['pertage', 'init'])].plot.bar(\n",
    "            stacked=True, ax=ax)\n",
    "    else:\n",
    "        sc.pl.umap(adata_nondoub,\n",
    "                   color=to_plot[i],\n",
    "                   cmap='Blues' if i == 0 else 'Reds',\n",
    "                   size=9,\n",
    "                   ax=ax,\n",
    "                   show=False,\n",
    "                   legend_loc='on data')\n",
    "    i += 1\n",
    "\n",
    "plt.tight_layout()\n",
    "plt.show()\n",
    "\n",
    "fig, axs = plt.subplots(2, 3, figsize=(12, 6),sharex=True)\n",
    "i=0\n",
    "to_plot=[\n",
    "        'log10_usable_counts','frac_reads_in_peaks', 'frac_reads_in_promoters',\n",
    "        'frac_promoters_used', 'doublet_score', 'frac_duplicated_reads'\n",
    "]\n",
    "\n",
    "for ax in axs.reshape(-1): \n",
    "    sns.boxplot(x='leiden', y=to_plot[i], data=adata_nondoub.obs,ax=ax)\n",
    "    ax.set_xlabel('')\n",
    "    ax.set_ylabel('')\n",
    "    ax.set_title(to_plot[i])\n",
    "    i+=1\n",
    "plt.tight_layout()\n",
    "plt.show()\n",
    "\n",
    "fig, axs = plt.subplots(2, 3, figsize=(12, 6), sharex=True)\n",
    "i = 0\n",
    "for ax in axs.reshape(-1):\n",
    "    sc.pl.umap(adata,\n",
    "               color=to_plot[i],\n",
    "               cmap='Blues' if i==0 else'Reds',\n",
    "               size=9,\n",
    "               ax=ax,\n",
    "               show=False,\n",
    "               legend_loc='on data')\n",
    "    i+=1\n",
    "\n",
    "plt.tight_layout()\n",
    "plt.show()"
   ]
  },
  {
   "cell_type": "code",
   "execution_count": null,
   "metadata": {},
   "outputs": [],
   "source": [
    "adata.obs['doublet_score'] = doublet_scores\n",
    "adata.obs['doublet'] = predicted_doublets\n",
    "adata.obs['log10_unique_usable_reads'] = np.log10(\n",
    "    adata.obs['unique_usable_reads'] + 1)\n",
    "\n",
    "fig, axs = plt.subplots(2, 3, figsize=(12, 8))\n",
    "i = 0\n",
    "to_plot = [\n",
    "    'log10_unique_usable_reads', 'frac_promoters_used', 'doublet_score',\n",
    "    'doublet', 'leiden'\n",
    "]\n",
    "for ax in axs.reshape(-1):\n",
    "\n",
    "    if (i == 5):\n",
    "        doub_sum.loc[:, ~doub_sum.columns.isin(['pertage', 'init'])].plot.bar(\n",
    "            stacked=True, ax=ax)\n",
    "    else:\n",
    "        sc.pl.umap(adata_doub,\n",
    "                   color=to_plot[i],\n",
    "                   cmap='Blues' if i == 0 else 'Reds',\n",
    "                   size=9,\n",
    "                   ax=ax,\n",
    "                   show=False,\n",
    "                   legend_loc='on data')\n",
    "    i += 1\n",
    "\n",
    "plt.tight_layout()\n",
    "plt.show()\n",
    "\n",
    "fig, axs = plt.subplots(2, 3, figsize=(12, 6),sharex=True)\n",
    "i=0\n",
    "to_plot=[\n",
    "        'log10_usable_counts','frac_reads_in_peaks', 'frac_reads_in_promoters',\n",
    "        'frac_promoters_used', 'doublet_score', 'frac_duplicated_reads'\n",
    "]\n",
    "\n",
    "for ax in axs.reshape(-1): \n",
    "    sns.boxplot(x='leiden', y=to_plot[i], data=adata_doub.obs,ax=ax)\n",
    "    ax.set_xlabel('')\n",
    "    ax.set_ylabel('')\n",
    "    ax.set_title(to_plot[i])\n",
    "    i+=1\n",
    "plt.tight_layout()\n",
    "plt.show()\n",
    "\n",
    "fig, axs = plt.subplots(2, 3, figsize=(12, 6), sharex=True)\n",
    "i = 0\n",
    "for ax in axs.reshape(-1):\n",
    "    sc.pl.umap(adata,\n",
    "               color=to_plot[i],\n",
    "               cmap='Blues' if i==0 else'Reds',\n",
    "               size=9,\n",
    "               ax=ax,\n",
    "               show=False,\n",
    "               legend_loc='on data')\n",
    "    i+=1\n",
    "\n",
    "plt.tight_layout()\n",
    "plt.show()"
   ]
  },
  {
   "cell_type": "code",
   "execution_count": null,
   "metadata": {},
   "outputs": [],
   "source": [
    "import seaborn as sns\n",
    "adata.obs['doublet'] = predicted_doublets\n",
    "adata.obs['doublet'] = adata.obs['doublet'].astype('category')\n",
    "g = sns.pairplot(adata.obs[[\n",
    "    'log10_unique_usable_reads', 'frac_promoters_used', 'doublet_score',\n",
    "    'doublet'\n",
    "]],hue='doublet')"
   ]
  },
  {
   "cell_type": "code",
   "execution_count": null,
   "metadata": {
    "scrolled": false
   },
   "outputs": [],
   "source": [
    "adata.obs['doublet'] = predicted_doublets.astype('int')\n",
    "\n",
    "adata.obs.plot.scatter(\n",
    "    x='log10_unique_usable_reads',\n",
    "    y='frac_promoters_used',\n",
    "    c='doublet',colormap='viridis',\n",
    "    alpha=.25,\n",
    ")"
   ]
  },
  {
   "cell_type": "code",
   "execution_count": null,
   "metadata": {},
   "outputs": [],
   "source": [
    "\n",
    "print('Running UMAP...')\n",
    "scrub.set_embedding('UMAP', scr.get_umap(scrub.manifold_obs_, 10, min_dist=0.3))\n",
    "\n",
    "# # Uncomment to run tSNE - slow\n",
    "# print('Running tSNE...')\n",
    "# scrub.set_embedding('tSNE', scr.get_tsne(scrub.manifold_obs_, angle=0.9))\n",
    "\n",
    "# # Uncomment to run force layout - slow\n",
    "# print('Running ForceAtlas2...')\n",
    "# scrub.set_embedding('FA', scr.get_force_layout(scrub.manifold_obs_, n_neighbors=5. n_iter=1000))\n",
    "    \n",
    "print('Done.')\n",
    "scrub.plot_embedding('UMAP', order_points=True);"
   ]
  },
  {
   "cell_type": "code",
   "execution_count": null,
   "metadata": {},
   "outputs": [],
   "source": [
    "doublet_result = pd.DataFrame(\n",
    "    {\n",
    "        'predicted_doublets': predicted_doublets,\n",
    "        'doublet_scores': doublet_scores\n",
    "    },\n",
    "    columns=['predicted_doublets','doublet_scores'],\n",
    "    index=adata.obs.index)\n",
    "doublet_result.to_csv(os.path.join(wd,'{0}.doublet_result.txt'.format(sample_name)))"
   ]
  }
 ],
 "metadata": {
  "celltoolbar": "Tags",
  "kernelspec": {
   "display_name": "Python 3",
   "language": "python",
   "name": "python3"
  },
  "language_info": {
   "codemirror_mode": {
    "name": "ipython",
    "version": 3
   },
   "file_extension": ".py",
   "mimetype": "text/x-python",
   "name": "python",
   "nbconvert_exporter": "python",
   "pygments_lexer": "ipython3",
   "version": "3.6.7"
  }
 },
 "nbformat": 4,
 "nbformat_minor": 2
}
