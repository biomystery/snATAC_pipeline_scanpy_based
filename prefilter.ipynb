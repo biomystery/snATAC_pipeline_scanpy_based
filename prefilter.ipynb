{
 "cells": [
  {
   "cell_type": "code",
   "execution_count": 1,
   "metadata": {},
   "outputs": [],
   "source": [
    "suppressMessages(require(ggpubr))\n",
    "suppressMessages(require(tidyverse))\n",
    "suppressMessages(require(data.table))\n",
    "suppressMessages(require(mixtools))\n",
    "suppressMessages(require(grid))\n",
    "suppressMessages(require(viridis))\n",
    "suppressMessages(require(RColorBrewer))\n",
    "suppressMessages(require(venn))\n",
    "suppressMessages(require(ggExtra))\n",
    "\n",
    "\n",
    "get_density <- function(x, y, ...) {\n",
    "    require(MASS)\n",
    "    dens <- MASS::kde2d(x, y, ...)\n",
    "    ix <- findInterval(x, dens$x)\n",
    "    iy <- findInterval(y, dens$y)\n",
    "    ii <- cbind(ix, iy)\n",
    "    return(dens$z[ii])\n",
    "}\n",
    "\n",
    "plot_mix_comps <- function(x, mu, sigma, lam) {\n",
    "    lam * dnorm(x, mu, sigma)\n",
    "}\n",
    "options(repr.plot.width = 4, repr.plot.height = 4)\n",
    "\n",
    "theme_set(theme_bw(base_size = 8))"
   ]
  },
  {
   "cell_type": "code",
   "execution_count": null,
   "metadata": {
    "tags": [
     "parameters"
    ]
   },
   "outputs": [],
   "source": [
    "sample=\"JYH_857_1_2\"\n",
    "lower.th =\"100\"\n",
    "th.prob<-.1\n",
    "log.base <- 10"
   ]
  },
  {
   "cell_type": "code",
   "execution_count": null,
   "metadata": {},
   "outputs": [],
   "source": [
    "lower.th <- as.integer(lower.th)\n",
    "# qc <- fread(paste0(sample, '.qc_metrics.txt')) %>% mutate(log_uniq_usable_reads\n",
    "# = log(unique_usable_reads +\n",
    "qc <- fread(paste0(sample, \"/\", sample, \".qc_metrics.txt\")) %>% mutate(log_uniq_usable_reads = log(unique_usable_reads + \n",
    "    1, base = log.base))"
   ]
  },
  {
   "cell_type": "markdown",
   "metadata": {},
   "source": [
    "## 1. Determine total_reads threshold"
   ]
  },
  {
   "cell_type": "code",
   "execution_count": null,
   "metadata": {},
   "outputs": [],
   "source": [
    "options(repr.plot.width = 6, repr.plot.height = 6)\n",
    "\n",
    "set.seed(1)\n",
    "wait <- qc %>% filter(unique_usable_reads > lower.th) %>% pull(log_uniq_usable_reads)\n",
    "suppressMessages(mixmdl <- normalmixEM(wait, k = 2))\n",
    "\n",
    "tot_barcodes <- nrow(qc)\n",
    "tot_usable_reads <- sum(qc$unique_usable_reads)\n",
    "p0 <- ggplot(qc) + geom_histogram(aes(x = log_uniq_usable_reads, ..count..), binwidth = 0.05,\n",
    "    alpha = 0.5, color = \"black\") + theme_bw() + coord_cartesian(xlim = c(0, log(10^5,base=log.base)))\n",
    "p1 <- p0 + annotation_custom(grobTree(textGrob(paste0(\"Total barcodes\", \"\\n\", tot_barcodes,\n",
    "    \"\\nTotal unique reads:\", \"\\n\", round(tot_usable_reads/10^6), \"M\"), x = 0.9, y = 0.9,\n",
    "    hjust = 1, vjust = 1, gp = gpar(size = 4))))+ xlab('')\n",
    "\n",
    "tot_cells <- sum(qc$unique_usable_reads > lower.th)\n",
    "tot_reads <- sum(qc %>% filter(unique_usable_reads > lower.th) %>% pull(unique_usable_reads))\n",
    "p2 <- p0 %+% (qc %>% filter(unique_usable_reads > lower.th)) + geom_vline(xintercept = log(lower.th+1,base=log.base),\n",
    "    color = \"black\", linetype = 2) + annotation_custom(grobTree(textGrob(paste0(\"Total barcodes(reads>\",\n",
    "    lower.th, \"):\", \"\\n\", tot_cells, \",\", round(tot_cells/tot_barcodes *\n",
    "        100), \"%\", \"\\nTotal reads:\", round(tot_reads/10^6), \"M,\", round(tot_reads/tot_usable_reads *\n",
    "        100), \"%\"), x = 0.05, y = 0.9, hjust = 0, vjust = 1, gp = gpar(size = 4))))+ xlab('')\n",
    "\n",
    "threshold = qnorm(th.prob, mixmdl$mu[2], mixmdl$sigma[2])\n",
    "final_cells <- sum(qc$log_uniq_usable_reads > threshold)\n",
    "final_reads <- sum(qc %>% filter(log_uniq_usable_reads > threshold) %>% pull(unique_usable_reads))\n",
    "\n",
    "\n",
    "p3 <- ggplot(qc %>% filter(unique_usable_reads > lower.th)) + geom_histogram(aes(x = log_uniq_usable_reads,\n",
    "    ..density..), binwidth = 0.05, alpha = 0.5, color = \"black\") + theme_bw() + coord_cartesian(xlim = c(0,log(10^5,base=log.base)\n",
    "    )) + stat_function(geom = \"line\", fun = plot_mix_comps, args = list(mixmdl$mu[1],\n",
    "    mixmdl$sigma[1], lam = mixmdl$lambda[1]), colour = \"red\", lwd = 1) + stat_function(geom = \"line\",\n",
    "    fun = plot_mix_comps, args = list(mixmdl$mu[2], mixmdl$sigma[2], lam = mixmdl$lambda[2]),\n",
    "    colour = \"green\", lwd = 1) + geom_vline(xintercept = mixmdl$mu, color = c(\"red\",\n",
    "    \"green\")) + geom_vline(xintercept = threshold, color = \"green\", linetype = 2) +\n",
    "    annotation_custom(grobTree(textGrob(paste0(\"log likelihood:\", round(mixmdl$loglik),\n",
    "        \"\\n\", \"G1.median=\", round(log.base^mixmdl$mu[1] - 1), \"\\n\", \"G2.median=\", round(log.base^mixmdl$mu[2] -\n",
    "            1), \"\\n\", \"threshold=\", round(log.base^threshold - 1), \",prob=\", round(th.prob,\n",
    "            2), \"\\n\", \"(\", final_cells, \" cells,\", round(final_cells/tot_barcodes *\n",
    "            100), \"%)\", \"\\n(\", round(final_reads/10^6), \"M reads,\", round(final_reads/tot_usable_reads *\n",
    "            100), \"%)\"), x = 0.05, y = 0.95, hjust = 0, vjust = 1, gp = gpar(size = 4))))+ xlab(paste0(\"Usable reads (log\",log.base,\")\"))\n",
    "threshold.total <- threshold\n",
    "ggarrange(p1, p2, p3, nrow = 3)\n"
   ]
  },
  {
   "cell_type": "markdown",
   "metadata": {},
   "source": [
    "## 2. Determine FRoP threshold "
   ]
  },
  {
   "cell_type": "code",
   "execution_count": null,
   "metadata": {},
   "outputs": [],
   "source": [
    "options(repr.plot.width = 4, repr.plot.height = 3)\n",
    "qc.2 <- qc %>% filter(unique_usable_reads > lower.th)\n",
    "\n",
    "\n",
    "p0 <- ggplot(qc.2) + geom_histogram(aes(x = frac_reads_in_promoters, \n",
    "    ..density..), binwidth = 0.005, alpha = 0.5, color = \"black\") + theme_bw()  #+ coord_cartesian(xlim = c(0, 0.25))\n",
    "plot_mix_comps <- function(x, mu, sigma, lam) {\n",
    "    lam * dnorm(x, mu, sigma)\n",
    "}\n",
    "\n",
    "mixmdl <- normalmixEM(qc.2 %>% pull(frac_reads_in_promoters), k = 2)\n",
    "# threshold = qnorm(th.prob, mixmdl$mu[2], mixmdl$sigma[2])\n",
    "\n",
    "threshold.FRoP = qnorm(0.05, mixmdl$mu[2], mixmdl$sigma[2])\n",
    "\n",
    "p0 + stat_function(geom = \"line\", fun = plot_mix_comps, args = list(mixmdl$mu[1], \n",
    "    mixmdl$sigma[1], lam = mixmdl$lambda[1]), colour = \"red\", lwd = 1) + stat_function(geom = \"line\", \n",
    "    fun = plot_mix_comps, args = list(mixmdl$mu[2], mixmdl$sigma[2], lam = mixmdl$lambda[2]), \n",
    "    colour = \"green\", lwd = 1) + geom_vline(xintercept = threshold.FRoP, linetype = 2, \n",
    "    col = 3)\n"
   ]
  },
  {
   "cell_type": "code",
   "execution_count": null,
   "metadata": {},
   "outputs": [],
   "source": [
    "plotDensity <- function(qc = qc.2) {\n",
    "    qc$density <- get_density(qc$log_uniq_usable_reads, qc$frac_reads_in_promoters, \n",
    "        n = 100)\n",
    "    p1 <- ggplot(qc) + geom_point(aes(log_uniq_usable_reads, frac_reads_in_promoters, \n",
    "        color = density), size = 0.5) + scale_color_viridis()\n",
    "    q05 <- quantile(p1$data$density, 0.45)\n",
    "    p1$data$density[p1$data$density > q05] <- q05\n",
    "    p1 <- p1 + geom_vline(xintercept = threshold.total, linetype = 2) + geom_hline(yintercept = threshold.FRoP, \n",
    "        linetype = 2)\n",
    "    ggMarginal(p1, type = \"histogram\")\n",
    "}\n",
    "plotDensity()"
   ]
  },
  {
   "cell_type": "markdown",
   "metadata": {},
   "source": [
    "## 3. Determine FPoU threshold"
   ]
  },
  {
   "cell_type": "code",
   "execution_count": null,
   "metadata": {},
   "outputs": [],
   "source": [
    "qc.2 <- qc %>% filter(frac_reads_in_promoters > 0 & unique_usable_reads > lower.th) %>% \n",
    "    mutate(FPoU_log10 = -log10(frac_promoters_used), FRoP_log10 = -log10(frac_reads_in_promoters))\n",
    "p0 <- ggplot(qc.2) + geom_histogram(aes(x = FPoU_log10, ..density..), bins = 100, \n",
    "    alpha = 0.5, color = \"black\") + theme_bw()\n",
    "\n",
    "\n",
    "mixmdl <- normalmixEM(qc.2 %>% pull(FPoU_log10), k = 2)\n",
    "threshold.FPoU_log10 = qnorm(0.95, mixmdl$mu[1], mixmdl$sigma[1])\n",
    "\n",
    "p0 + stat_function(geom = \"line\", fun = plot_mix_comps, args = list(mixmdl$mu[1], \n",
    "    mixmdl$sigma[1], lam = mixmdl$lambda[1]), colour = \"red\", lwd = 1) + stat_function(geom = \"line\", \n",
    "    fun = plot_mix_comps, args = list(mixmdl$mu[2], mixmdl$sigma[2], lam = mixmdl$lambda[2]), \n",
    "    colour = \"green\", lwd = 1) + geom_vline(xintercept = threshold.FPoU_log10, linetype = 2)\n",
    "\n"
   ]
  },
  {
   "cell_type": "code",
   "execution_count": null,
   "metadata": {
    "scrolled": false
   },
   "outputs": [],
   "source": [
    "options(repr.plot.width = 5, repr.plot.height = 3)\n",
    "\n",
    "p0 <- ggplot(qc.2, aes(log_uniq_usable_reads, frac_reads_in_promoters))\n",
    "p0 + geom_point(aes(color = FPoU_log10 <= threshold.FPoU_log10), size = 0.25, alpha = 0.25) + \n",
    "    geom_vline(xintercept = threshold.total, linetype = 2) + geom_hline(yintercept = threshold.FRoP, \n",
    "    linetype = 2)"
   ]
  },
  {
   "cell_type": "code",
   "execution_count": null,
   "metadata": {},
   "outputs": [],
   "source": [
    "options(repr.plot.width = 4, repr.plot.height = 3)\n",
    "p0 + geom_point(aes(color = FPoU_log10), size = 0.25, alpha = 0.25) + scale_color_gradientn(colours = rev(brewer.pal(9, \n",
    "    name = \"Spectral\")))"
   ]
  },
  {
   "cell_type": "markdown",
   "metadata": {},
   "source": [
    "## 4.10x multiplets"
   ]
  },
  {
   "cell_type": "code",
   "execution_count": null,
   "metadata": {},
   "outputs": [],
   "source": [
    "multiplets <- fread(paste0(\"~/data/outputs/10xATAC/\", sample, \"/outs/\", sample, \"_excluded_barcodes.csv\")) %>% \n",
    "    mutate(`Excluded Barcode` = paste0(sample, \"_\", sub(\"-1\", \"\", `Excluded Barcode`))) %>% \n",
    "    dplyr::select(-`Linked Barcode`)\n",
    "multiplets %>% head(1)\n",
    "multiplets %>% nrow\n",
    "qc.2$isMulti = (qc.2$V1 %in% multiplets$`Excluded Barcode`)\n",
    "qc.2 <- qc.2 %>% left_join(multiplets, by = c(V1 = \"Excluded Barcode\")) %>% mutate(`Exclusion Reason` = replace_na(`Exclusion Reason`, \n",
    "    \"keep\"))\n",
    "\n",
    "options(repr.plot.width = 4, repr.plot.height = 3)\n",
    "\n",
    "ggplot(qc.2, aes(log_uniq_usable_reads, frac_reads_in_promoters)) + geom_point(aes(color = `Exclusion Reason`), \n",
    "    size = 0.45, alpha = 0.5) + geom_vline(xintercept = threshold.total, linetype = 2) + \n",
    "    geom_hline(yintercept = threshold.FRoP, linetype = 2) + scale_color_manual(values = c(\"red\", \n",
    "    \"blue\", \"grey\"))"
   ]
  },
  {
   "cell_type": "code",
   "execution_count": null,
   "metadata": {},
   "outputs": [],
   "source": [
    "plotDensity(qc = qc.2 %>% filter(!isMulti))"
   ]
  },
  {
   "cell_type": "markdown",
   "metadata": {},
   "source": [
    "## 5. Summary of thresholds "
   ]
  },
  {
   "cell_type": "code",
   "execution_count": null,
   "metadata": {},
   "outputs": [],
   "source": [
    "threshold.FPoU_log10\n",
    "threshold.total\n",
    "threshold.FRoP"
   ]
  },
  {
   "cell_type": "code",
   "execution_count": null,
   "metadata": {},
   "outputs": [],
   "source": [
    "venn(list(total_pass = qc.2$V1[which(qc.2$log_uniq_usable_reads > threshold.total)], \n",
    "    FRoP_pass = qc.2$V1[which(qc.2$frac_reads_in_promoters > threshold.FRoP)], FRoU_pass = qc.2$V1[which(qc.2$FPoU_log10 < \n",
    "        threshold.FPoU_log10)], multiplets = multiplets$`Excluded Barcode`),ellipse=T)"
   ]
  },
  {
   "cell_type": "markdown",
   "metadata": {},
   "source": [
    "## 6. Save thresholds"
   ]
  },
  {
   "cell_type": "code",
   "execution_count": null,
   "metadata": {},
   "outputs": [],
   "source": [
    "fwrite(x = data.frame(min_total = round(10^threshold.total - 1), min_FRoP = threshold.FRoP, \n",
    "    min_FPoU_log10 = threshold.FPoU_log10, n_cell_passed = sum((qc.2$log_uniq_usable_reads > \n",
    "        threshold.total) & (qc.2$frac_reads_in_promoters > threshold.FRoP))), file = paste0(sample, \n",
    "    \"/\", sample, \".qc_thresholds.txt\"))\n",
    "\n",
    "fwrite(x = multiplets, file = paste0(sample,\"/\", sample, \".multiplets.txt\"))"
   ]
  }
 ],
 "metadata": {
  "celltoolbar": "Tags",
  "kernelspec": {
   "display_name": "R",
   "language": "R",
   "name": "ir"
  },
  "language_info": {
   "codemirror_mode": "r",
   "file_extension": ".r",
   "mimetype": "text/x-r-source",
   "name": "R",
   "pygments_lexer": "r",
   "version": "3.5.1"
  }
 },
 "nbformat": 4,
 "nbformat_minor": 2
}
