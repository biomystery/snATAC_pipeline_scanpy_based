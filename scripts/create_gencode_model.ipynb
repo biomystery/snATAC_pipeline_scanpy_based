{
 "cells": [
  {
   "cell_type": "code",
   "execution_count": null,
   "metadata": {},
   "outputs": [],
   "source": [
    "%%Shell \n",
    "bedtools intersect   -a mm10.5kb_windows.bed   -b gencode.vM17.protein_coding.tr.tss.bed  -wa -wb  | awk -v OFS='\\t' '{print substr($1,4)\":\"$2\"-\"$3,$7}' |uniq> tmp"
   ]
  },
  {
   "cell_type": "code",
   "execution_count": 5,
   "metadata": {},
   "outputs": [],
   "source": [
    "require(tidyverse)\n",
    "require(data.table)\n",
    "#require(GenomeRange)\n",
    "require(rtracklayer)\n",
    "require(IRanges)"
   ]
  },
  {
   "cell_type": "code",
   "execution_count": 6,
   "metadata": {},
   "outputs": [],
   "source": [
    "gtf <- fread('~/data/GENOME/mm10/gencode.vM17.annotation.gtf',skip = 5) # 1-base "
   ]
  },
  {
   "cell_type": "markdown",
   "metadata": {},
   "source": [
    "## make tr tss"
   ]
  },
  {
   "cell_type": "code",
   "execution_count": 7,
   "metadata": {},
   "outputs": [],
   "source": [
    "gtf.protein_codeing.tr <- gtf %>% filter(V3 == \"transcript\" & grepl(\"protein_coding\", \n",
    "    V9)) %>% mutate(V9 = sub(\"gene_name \\\"(.*)\\\"\", \"\\\\1\", grep(\"gene_name\", unlist(strsplit(V9, \n",
    "    split = \";\")), value = T))) %>% select(V1, V4, V5, V9, V6, V7) %>% distinct()"
   ]
  },
  {
   "cell_type": "code",
   "execution_count": 15,
   "metadata": {},
   "outputs": [],
   "source": [
    "gtf.protein_codeing.tr.tss <- (gtf.protein_codeing.tr) %>% mutate(V4 = V4 - 1, V5 = V5)\n",
    "for (i in 1:nrow(gtf.protein_codeing.tr.tss)) {\n",
    "    if (gtf.protein_codeing.tr.tss$V7[i] == \"-\") {\n",
    "        gtf.protein_codeing.tr.tss$V4[i] = gtf.protein_codeing.tr.tss$V5[i] - 1\n",
    "    } else (gtf.protein_codeing.tr.tss$V5[i] = gtf.protein_codeing.tr.tss$V4[i] + 1)\n",
    "}"
   ]
  },
  {
   "cell_type": "code",
   "execution_count": 26,
   "metadata": {},
   "outputs": [
    {
     "data": {
      "text/html": [
       "<table>\n",
       "<thead><tr><th scope=col>V1</th><th scope=col>V4</th><th scope=col>V5</th><th scope=col>V9</th><th scope=col>V6</th><th scope=col>V7</th></tr></thead>\n",
       "<tbody>\n",
       "\t<tr><td>chr1   </td><td>3216343</td><td>3216344</td><td> Xkr4  </td><td>.      </td><td>-      </td></tr>\n",
       "\t<tr><td>chr1   </td><td>3215631</td><td>3215632</td><td> Xkr4  </td><td>.      </td><td>-      </td></tr>\n",
       "\t<tr><td>chr1   </td><td>3671497</td><td>3671498</td><td> Xkr4  </td><td>.      </td><td>-      </td></tr>\n",
       "\t<tr><td>chr1   </td><td>4409240</td><td>4409241</td><td> Rp1   </td><td>.      </td><td>-      </td></tr>\n",
       "\t<tr><td>chr1   </td><td>4409240</td><td>4409241</td><td> Rp1   </td><td>.      </td><td>-      </td></tr>\n",
       "\t<tr><td>chr1   </td><td>4409186</td><td>4409187</td><td> Rp1   </td><td>.      </td><td>-      </td></tr>\n",
       "</tbody>\n",
       "</table>\n"
      ],
      "text/latex": [
       "\\begin{tabular}{r|llllll}\n",
       " V1 & V4 & V5 & V9 & V6 & V7\\\\\n",
       "\\hline\n",
       "\t chr1    & 3216343 & 3216344 &  Xkr4   & .       & -      \\\\\n",
       "\t chr1    & 3215631 & 3215632 &  Xkr4   & .       & -      \\\\\n",
       "\t chr1    & 3671497 & 3671498 &  Xkr4   & .       & -      \\\\\n",
       "\t chr1    & 4409240 & 4409241 &  Rp1    & .       & -      \\\\\n",
       "\t chr1    & 4409240 & 4409241 &  Rp1    & .       & -      \\\\\n",
       "\t chr1    & 4409186 & 4409187 &  Rp1    & .       & -      \\\\\n",
       "\\end{tabular}\n"
      ],
      "text/markdown": [
       "\n",
       "V1 | V4 | V5 | V9 | V6 | V7 | \n",
       "|---|---|---|---|---|---|\n",
       "| chr1    | 3216343 | 3216344 |  Xkr4   | .       | -       | \n",
       "| chr1    | 3215631 | 3215632 |  Xkr4   | .       | -       | \n",
       "| chr1    | 3671497 | 3671498 |  Xkr4   | .       | -       | \n",
       "| chr1    | 4409240 | 4409241 |  Rp1    | .       | -       | \n",
       "| chr1    | 4409240 | 4409241 |  Rp1    | .       | -       | \n",
       "| chr1    | 4409186 | 4409187 |  Rp1    | .       | -       | \n",
       "\n",
       "\n"
      ],
      "text/plain": [
       "  V1   V4      V5      V9    V6 V7\n",
       "1 chr1 3216343 3216344  Xkr4 .  - \n",
       "2 chr1 3215631 3215632  Xkr4 .  - \n",
       "3 chr1 3671497 3671498  Xkr4 .  - \n",
       "4 chr1 4409240 4409241  Rp1  .  - \n",
       "5 chr1 4409240 4409241  Rp1  .  - \n",
       "6 chr1 4409186 4409187  Rp1  .  - "
      ]
     },
     "metadata": {},
     "output_type": "display_data"
    },
    {
     "data": {
      "text/html": [
       "<table>\n",
       "<thead><tr><th scope=col>V1</th><th scope=col>V4</th><th scope=col>V5</th><th scope=col>V9</th><th scope=col>V6</th><th scope=col>V7</th></tr></thead>\n",
       "<tbody>\n",
       "\t<tr><td>chr1         </td><td>4807787      </td><td>4807788      </td><td> Lypla1      </td><td>.            </td><td>+            </td></tr>\n",
       "\t<tr><td>chr1         </td><td>4807822      </td><td>4807823      </td><td> Lypla1      </td><td>.            </td><td>+            </td></tr>\n",
       "\t<tr><td>chr1         </td><td>4807829      </td><td>4807830      </td><td> Lypla1      </td><td>.            </td><td>+            </td></tr>\n",
       "\t<tr><td>chr1         </td><td>4807895      </td><td>4807896      </td><td> Lypla1      </td><td>.            </td><td>+            </td></tr>\n",
       "\t<tr><td>chr1         </td><td>4807897      </td><td>4807898      </td><td> Lypla1      </td><td>.            </td><td>+            </td></tr>\n",
       "\t<tr><td>chr1         </td><td>4807910      </td><td>4807911      </td><td> Lypla1      </td><td>.            </td><td>+            </td></tr>\n",
       "\t<tr><td>chr1         </td><td>4808236      </td><td>4808237      </td><td> Lypla1      </td><td>.            </td><td>+            </td></tr>\n",
       "\t<tr><td>chr1         </td><td>4836904      </td><td>4836905      </td><td> Lypla1      </td><td>.            </td><td>+            </td></tr>\n",
       "\t<tr><td>chr1         </td><td>4807891      </td><td>4807892      </td><td> RP24-426M1.3</td><td>.            </td><td>+            </td></tr>\n",
       "\t<tr><td>chr1         </td><td>4857813      </td><td>4857814      </td><td> Tcea1       </td><td>.            </td><td>+            </td></tr>\n",
       "\t<tr><td>chr1         </td><td>4858037      </td><td>4858038      </td><td> Tcea1       </td><td>.            </td><td>+            </td></tr>\n",
       "\t<tr><td>chr1         </td><td>5070017      </td><td>5070018      </td><td> Atp6v1h     </td><td>.            </td><td>+            </td></tr>\n",
       "\t<tr><td>chr1         </td><td>5083079      </td><td>5083080      </td><td> Atp6v1h     </td><td>.            </td><td>+            </td></tr>\n",
       "\t<tr><td>chr1         </td><td>5083109      </td><td>5083110      </td><td> Atp6v1h     </td><td>.            </td><td>+            </td></tr>\n",
       "\t<tr><td>chr1         </td><td>5083123      </td><td>5083124      </td><td> Atp6v1h     </td><td>.            </td><td>+            </td></tr>\n",
       "\t<tr><td>chr1         </td><td>5083131      </td><td>5083132      </td><td> Atp6v1h     </td><td>.            </td><td>+            </td></tr>\n",
       "\t<tr><td>chr1         </td><td>5083131      </td><td>5083132      </td><td> Atp6v1h     </td><td>.            </td><td>+            </td></tr>\n",
       "\t<tr><td>chr1         </td><td>5083153      </td><td>5083154      </td><td> Atp6v1h     </td><td>.            </td><td>+            </td></tr>\n",
       "\t<tr><td>chr1         </td><td>5083163      </td><td>5083164      </td><td> Atp6v1h     </td><td>.            </td><td>+            </td></tr>\n",
       "\t<tr><td>chr1         </td><td>5588465      </td><td>5588466      </td><td> Oprk1       </td><td>.            </td><td>+            </td></tr>\n",
       "</tbody>\n",
       "</table>\n"
      ],
      "text/latex": [
       "\\begin{tabular}{r|llllll}\n",
       " V1 & V4 & V5 & V9 & V6 & V7\\\\\n",
       "\\hline\n",
       "\t chr1          & 4807787       & 4807788       &  Lypla1       & .             & +            \\\\\n",
       "\t chr1          & 4807822       & 4807823       &  Lypla1       & .             & +            \\\\\n",
       "\t chr1          & 4807829       & 4807830       &  Lypla1       & .             & +            \\\\\n",
       "\t chr1          & 4807895       & 4807896       &  Lypla1       & .             & +            \\\\\n",
       "\t chr1          & 4807897       & 4807898       &  Lypla1       & .             & +            \\\\\n",
       "\t chr1          & 4807910       & 4807911       &  Lypla1       & .             & +            \\\\\n",
       "\t chr1          & 4808236       & 4808237       &  Lypla1       & .             & +            \\\\\n",
       "\t chr1          & 4836904       & 4836905       &  Lypla1       & .             & +            \\\\\n",
       "\t chr1          & 4807891       & 4807892       &  RP24-426M1.3 & .             & +            \\\\\n",
       "\t chr1          & 4857813       & 4857814       &  Tcea1        & .             & +            \\\\\n",
       "\t chr1          & 4858037       & 4858038       &  Tcea1        & .             & +            \\\\\n",
       "\t chr1          & 5070017       & 5070018       &  Atp6v1h      & .             & +            \\\\\n",
       "\t chr1          & 5083079       & 5083080       &  Atp6v1h      & .             & +            \\\\\n",
       "\t chr1          & 5083109       & 5083110       &  Atp6v1h      & .             & +            \\\\\n",
       "\t chr1          & 5083123       & 5083124       &  Atp6v1h      & .             & +            \\\\\n",
       "\t chr1          & 5083131       & 5083132       &  Atp6v1h      & .             & +            \\\\\n",
       "\t chr1          & 5083131       & 5083132       &  Atp6v1h      & .             & +            \\\\\n",
       "\t chr1          & 5083153       & 5083154       &  Atp6v1h      & .             & +            \\\\\n",
       "\t chr1          & 5083163       & 5083164       &  Atp6v1h      & .             & +            \\\\\n",
       "\t chr1          & 5588465       & 5588466       &  Oprk1        & .             & +            \\\\\n",
       "\\end{tabular}\n"
      ],
      "text/markdown": [
       "\n",
       "V1 | V4 | V5 | V9 | V6 | V7 | \n",
       "|---|---|---|---|---|---|---|---|---|---|---|---|---|---|---|---|---|---|---|---|\n",
       "| chr1          | 4807787       | 4807788       |  Lypla1       | .             | +             | \n",
       "| chr1          | 4807822       | 4807823       |  Lypla1       | .             | +             | \n",
       "| chr1          | 4807829       | 4807830       |  Lypla1       | .             | +             | \n",
       "| chr1          | 4807895       | 4807896       |  Lypla1       | .             | +             | \n",
       "| chr1          | 4807897       | 4807898       |  Lypla1       | .             | +             | \n",
       "| chr1          | 4807910       | 4807911       |  Lypla1       | .             | +             | \n",
       "| chr1          | 4808236       | 4808237       |  Lypla1       | .             | +             | \n",
       "| chr1          | 4836904       | 4836905       |  Lypla1       | .             | +             | \n",
       "| chr1          | 4807891       | 4807892       |  RP24-426M1.3 | .             | +             | \n",
       "| chr1          | 4857813       | 4857814       |  Tcea1        | .             | +             | \n",
       "| chr1          | 4858037       | 4858038       |  Tcea1        | .             | +             | \n",
       "| chr1          | 5070017       | 5070018       |  Atp6v1h      | .             | +             | \n",
       "| chr1          | 5083079       | 5083080       |  Atp6v1h      | .             | +             | \n",
       "| chr1          | 5083109       | 5083110       |  Atp6v1h      | .             | +             | \n",
       "| chr1          | 5083123       | 5083124       |  Atp6v1h      | .             | +             | \n",
       "| chr1          | 5083131       | 5083132       |  Atp6v1h      | .             | +             | \n",
       "| chr1          | 5083131       | 5083132       |  Atp6v1h      | .             | +             | \n",
       "| chr1          | 5083153       | 5083154       |  Atp6v1h      | .             | +             | \n",
       "| chr1          | 5083163       | 5083164       |  Atp6v1h      | .             | +             | \n",
       "| chr1          | 5588465       | 5588466       |  Oprk1        | .             | +             | \n",
       "\n",
       "\n"
      ],
      "text/plain": [
       "   V1   V4      V5      V9            V6 V7\n",
       "1  chr1 4807787 4807788  Lypla1       .  + \n",
       "2  chr1 4807822 4807823  Lypla1       .  + \n",
       "3  chr1 4807829 4807830  Lypla1       .  + \n",
       "4  chr1 4807895 4807896  Lypla1       .  + \n",
       "5  chr1 4807897 4807898  Lypla1       .  + \n",
       "6  chr1 4807910 4807911  Lypla1       .  + \n",
       "7  chr1 4808236 4808237  Lypla1       .  + \n",
       "8  chr1 4836904 4836905  Lypla1       .  + \n",
       "9  chr1 4807891 4807892  RP24-426M1.3 .  + \n",
       "10 chr1 4857813 4857814  Tcea1        .  + \n",
       "11 chr1 4858037 4858038  Tcea1        .  + \n",
       "12 chr1 5070017 5070018  Atp6v1h      .  + \n",
       "13 chr1 5083079 5083080  Atp6v1h      .  + \n",
       "14 chr1 5083109 5083110  Atp6v1h      .  + \n",
       "15 chr1 5083123 5083124  Atp6v1h      .  + \n",
       "16 chr1 5083131 5083132  Atp6v1h      .  + \n",
       "17 chr1 5083131 5083132  Atp6v1h      .  + \n",
       "18 chr1 5083153 5083154  Atp6v1h      .  + \n",
       "19 chr1 5083163 5083164  Atp6v1h      .  + \n",
       "20 chr1 5588465 5588466  Oprk1        .  + "
      ]
     },
     "metadata": {},
     "output_type": "display_data"
    }
   ],
   "source": [
    "head(gtf.protein_codeing.tr.tss)\n",
    "head(gtf.protein_codeing.tr.tss%>%filter(V7==\"+\"),n=20)"
   ]
  },
  {
   "cell_type": "code",
   "execution_count": 23,
   "metadata": {},
   "outputs": [],
   "source": [
    "write.table(gtf.protein_codeing.tr.tss, \"~/data/GENOME/mm10/gencode.vM17.protein_coding.tr.tss.bed\", sep = '\\t',\n",
    "    row.names = F, col.names = F, quote = F)"
   ]
  },
  {
   "cell_type": "markdown",
   "metadata": {},
   "source": [
    "## Gene"
   ]
  },
  {
   "cell_type": "code",
   "execution_count": 25,
   "metadata": {},
   "outputs": [
    {
     "data": {
      "text/html": [
       "<ol class=list-inline>\n",
       "\t<li>21981</li>\n",
       "\t<li>6</li>\n",
       "</ol>\n"
      ],
      "text/latex": [
       "\\begin{enumerate*}\n",
       "\\item 21981\n",
       "\\item 6\n",
       "\\end{enumerate*}\n"
      ],
      "text/markdown": [
       "1. 21981\n",
       "2. 6\n",
       "\n",
       "\n"
      ],
      "text/plain": [
       "[1] 21981     6"
      ]
     },
     "metadata": {},
     "output_type": "display_data"
    }
   ],
   "source": [
    "dim(gtf.protein_codeing)"
   ]
  },
  {
   "cell_type": "code",
   "execution_count": 24,
   "metadata": {
    "scrolled": true
   },
   "outputs": [
    {
     "data": {
      "text/html": [
       "<table>\n",
       "<thead><tr><th scope=col>V1</th><th scope=col>V4</th><th scope=col>V5</th><th scope=col>V9</th><th scope=col>V6</th><th scope=col>V7</th></tr></thead>\n",
       "<tbody>\n",
       "\t<tr><td>chr1         </td><td>3205901      </td><td>3671498      </td><td> Xkr4        </td><td>.            </td><td>-            </td></tr>\n",
       "\t<tr><td>chr1         </td><td>3999557      </td><td>4409241      </td><td> Rp1         </td><td>.            </td><td>-            </td></tr>\n",
       "\t<tr><td>chr1         </td><td>4490931      </td><td>4497354      </td><td> Sox17       </td><td>.            </td><td>-            </td></tr>\n",
       "\t<tr><td>chr1         </td><td>4773206      </td><td>4785739      </td><td> Mrpl15      </td><td>.            </td><td>-            </td></tr>\n",
       "\t<tr><td>chr1         </td><td>4807788      </td><td>4848410      </td><td> Lypla1      </td><td>.            </td><td>+            </td></tr>\n",
       "\t<tr><td>chr1         </td><td>4807892      </td><td>4886770      </td><td> RP24-426M1.3</td><td>.            </td><td>+            </td></tr>\n",
       "</tbody>\n",
       "</table>\n"
      ],
      "text/latex": [
       "\\begin{tabular}{r|llllll}\n",
       " V1 & V4 & V5 & V9 & V6 & V7\\\\\n",
       "\\hline\n",
       "\t chr1          & 3205901       & 3671498       &  Xkr4         & .             & -            \\\\\n",
       "\t chr1          & 3999557       & 4409241       &  Rp1          & .             & -            \\\\\n",
       "\t chr1          & 4490931       & 4497354       &  Sox17        & .             & -            \\\\\n",
       "\t chr1          & 4773206       & 4785739       &  Mrpl15       & .             & -            \\\\\n",
       "\t chr1          & 4807788       & 4848410       &  Lypla1       & .             & +            \\\\\n",
       "\t chr1          & 4807892       & 4886770       &  RP24-426M1.3 & .             & +            \\\\\n",
       "\\end{tabular}\n"
      ],
      "text/markdown": [
       "\n",
       "V1 | V4 | V5 | V9 | V6 | V7 | \n",
       "|---|---|---|---|---|---|\n",
       "| chr1          | 3205901       | 3671498       |  Xkr4         | .             | -             | \n",
       "| chr1          | 3999557       | 4409241       |  Rp1          | .             | -             | \n",
       "| chr1          | 4490931       | 4497354       |  Sox17        | .             | -             | \n",
       "| chr1          | 4773206       | 4785739       |  Mrpl15       | .             | -             | \n",
       "| chr1          | 4807788       | 4848410       |  Lypla1       | .             | +             | \n",
       "| chr1          | 4807892       | 4886770       |  RP24-426M1.3 | .             | +             | \n",
       "\n",
       "\n"
      ],
      "text/plain": [
       "  V1   V4      V5      V9            V6 V7\n",
       "1 chr1 3205901 3671498  Xkr4         .  - \n",
       "2 chr1 3999557 4409241  Rp1          .  - \n",
       "3 chr1 4490931 4497354  Sox17        .  - \n",
       "4 chr1 4773206 4785739  Mrpl15       .  - \n",
       "5 chr1 4807788 4848410  Lypla1       .  + \n",
       "6 chr1 4807892 4886770  RP24-426M1.3 .  + "
      ]
     },
     "metadata": {},
     "output_type": "display_data"
    }
   ],
   "source": [
    "gtf.protein_codeing <- gtf %>% filter(V3 == \"gene\" & grepl(\"protein_coding\", V9)) %>% mutate(V9 = sub(\"gene_name \\\"(.*)\\\"\", \n",
    "    \"\\\\1\", grep(\"gene_name\", unlist(strsplit(V9, split = \";\")), value = T))) %>% \n",
    "    select(V1, V4, V5, V9, V6, V7)\n",
    "head(gtf.protein_codeing)\n"
   ]
  },
  {
   "cell_type": "code",
   "execution_count": 21,
   "metadata": {},
   "outputs": [],
   "source": [
    "write.table(gtf.protein_codeing, \"~/data/GENOME/mm10/gencode.vM17.protein_coding.gene.bed\", sep = '\\t',\n",
    "    row.names = F, col.names = F, quote = F)"
   ]
  },
  {
   "cell_type": "markdown",
   "metadata": {},
   "source": [
    "## make 5kb window overlapped with tss"
   ]
  },
  {
   "cell_type": "code",
   "execution_count": 9,
   "metadata": {},
   "outputs": [],
   "source": [
    "gtf.protein_codeing <- import(\"~/data/GENOME/mm10/gencode.vM17.protein_coding.tr.tss.bed\")\n",
    "windows.5k <- import('~/data/GENOME/mm10/mm10.5kb_windows.bed')"
   ]
  },
  {
   "cell_type": "code",
   "execution_count": 11,
   "metadata": {},
   "outputs": [
    {
     "data": {
      "text/plain": [
       "GRanges object with 1 range and 0 metadata columns:\n",
       "      seqnames    ranges strand\n",
       "         <Rle> <IRanges>  <Rle>\n",
       "  [1]     chr1    1-5000      *\n",
       "  -------\n",
       "  seqinfo: 22 sequences from an unspecified genome; no seqlengths"
      ]
     },
     "metadata": {},
     "output_type": "display_data"
    },
    {
     "data": {
      "text/plain": [
       "GRanges object with 6 ranges and 2 metadata columns:\n",
       "      seqnames    ranges strand |        name     score\n",
       "         <Rle> <IRanges>  <Rle> | <character> <numeric>\n",
       "  [1]     chr1   3216343      - |        Xkr4      <NA>\n",
       "  [2]     chr1   3215631      - |        Xkr4      <NA>\n",
       "  [3]     chr1   3671497      - |        Xkr4      <NA>\n",
       "  [4]     chr1   4409240      - |         Rp1      <NA>\n",
       "  [5]     chr1   4409240      - |         Rp1      <NA>\n",
       "  [6]     chr1   4409186      - |         Rp1      <NA>\n",
       "  -------\n",
       "  seqinfo: 22 sequences from an unspecified genome; no seqlengths"
      ]
     },
     "metadata": {},
     "output_type": "display_data"
    }
   ],
   "source": [
    "head(windows.5k,1)\n",
    "head(gtf.protein_codeing)"
   ]
  },
  {
   "cell_type": "code",
   "execution_count": 5,
   "metadata": {},
   "outputs": [
    {
     "data": {
      "text/plain": [
       "Hits object with 97436 hits and 0 metadata columns:\n",
       "          queryHits subjectHits\n",
       "          <integer>   <integer>\n",
       "      [1]       644           2\n",
       "      [2]       644           1\n",
       "      [3]       735           3\n",
       "      [4]       873           7\n",
       "      [5]       882           6\n",
       "      ...       ...         ...\n",
       "  [97432]    544823       97500\n",
       "  [97433]    544824       97501\n",
       "  [97434]    544824       97502\n",
       "  [97435]    544824       97503\n",
       "  [97436]    544834       97504\n",
       "  -------\n",
       "  queryLength: 545015 / subjectLength: 97517"
      ]
     },
     "metadata": {},
     "output_type": "display_data"
    }
   ],
   "source": [
    "hits <- findOverlaps(windows.5k,gtf.protein_codeing)\n",
    "hits"
   ]
  },
  {
   "cell_type": "code",
   "execution_count": 13,
   "metadata": {},
   "outputs": [
    {
     "data": {
      "text/html": [
       "97436"
      ],
      "text/latex": [
       "97436"
      ],
      "text/markdown": [
       "97436"
      ],
      "text/plain": [
       "[1] 97436"
      ]
     },
     "metadata": {},
     "output_type": "display_data"
    },
    {
     "data": {
      "text/html": [
       "<ol class=list-inline>\n",
       "\t<li>43790</li>\n",
       "\t<li>6</li>\n",
       "</ol>\n"
      ],
      "text/latex": [
       "\\begin{enumerate*}\n",
       "\\item 43790\n",
       "\\item 6\n",
       "\\end{enumerate*}\n"
      ],
      "text/markdown": [
       "1. 43790\n",
       "2. 6\n",
       "\n",
       "\n"
      ],
      "text/plain": [
       "[1] 43790     6"
      ]
     },
     "metadata": {},
     "output_type": "display_data"
    }
   ],
   "source": [
    "windows.5k.prom<- windows.5k[queryHits(hits)]\n",
    "windows.5k.prom$name <- gtf.protein_codeing$name[subjectHits(hits)]\n",
    "length(windows.5k.prom)\n",
    "windows.5k.prom<-(windows.5k.prom%>%as.data.frame()%>%distinct())\n",
    "dim(windows.5k.prom)"
   ]
  },
  {
   "cell_type": "code",
   "execution_count": 17,
   "metadata": {},
   "outputs": [
    {
     "data": {
      "text/html": [
       "<table>\n",
       "<thead><tr><th scope=col>seqnames</th><th scope=col>start</th><th scope=col>end</th><th scope=col>width</th><th scope=col>strand</th><th scope=col>name</th></tr></thead>\n",
       "<tbody>\n",
       "\t<tr><td>chr1   </td><td>3215001</td><td>3220000</td><td>5000   </td><td>*      </td><td> Xkr4  </td></tr>\n",
       "\t<tr><td>chr1   </td><td>3670001</td><td>3675000</td><td>5000   </td><td>*      </td><td> Xkr4  </td></tr>\n",
       "\t<tr><td>chr1   </td><td>4360001</td><td>4365000</td><td>5000   </td><td>*      </td><td> Rp1   </td></tr>\n",
       "\t<tr><td>chr1   </td><td>4405001</td><td>4410000</td><td>5000   </td><td>*      </td><td> Rp1   </td></tr>\n",
       "\t<tr><td>chr1   </td><td>4490001</td><td>4495000</td><td>5000   </td><td>*      </td><td> Sox17 </td></tr>\n",
       "\t<tr><td>chr1   </td><td>4495001</td><td>4500000</td><td>5000   </td><td>*      </td><td> Sox17 </td></tr>\n",
       "</tbody>\n",
       "</table>\n"
      ],
      "text/latex": [
       "\\begin{tabular}{r|llllll}\n",
       " seqnames & start & end & width & strand & name\\\\\n",
       "\\hline\n",
       "\t chr1    & 3215001 & 3220000 & 5000    & *       &  Xkr4  \\\\\n",
       "\t chr1    & 3670001 & 3675000 & 5000    & *       &  Xkr4  \\\\\n",
       "\t chr1    & 4360001 & 4365000 & 5000    & *       &  Rp1   \\\\\n",
       "\t chr1    & 4405001 & 4410000 & 5000    & *       &  Rp1   \\\\\n",
       "\t chr1    & 4490001 & 4495000 & 5000    & *       &  Sox17 \\\\\n",
       "\t chr1    & 4495001 & 4500000 & 5000    & *       &  Sox17 \\\\\n",
       "\\end{tabular}\n"
      ],
      "text/markdown": [
       "\n",
       "seqnames | start | end | width | strand | name | \n",
       "|---|---|---|---|---|---|\n",
       "| chr1    | 3215001 | 3220000 | 5000    | *       |  Xkr4   | \n",
       "| chr1    | 3670001 | 3675000 | 5000    | *       |  Xkr4   | \n",
       "| chr1    | 4360001 | 4365000 | 5000    | *       |  Rp1    | \n",
       "| chr1    | 4405001 | 4410000 | 5000    | *       |  Rp1    | \n",
       "| chr1    | 4490001 | 4495000 | 5000    | *       |  Sox17  | \n",
       "| chr1    | 4495001 | 4500000 | 5000    | *       |  Sox17  | \n",
       "\n",
       "\n"
      ],
      "text/plain": [
       "  seqnames start   end     width strand name  \n",
       "1 chr1     3215001 3220000 5000  *       Xkr4 \n",
       "2 chr1     3670001 3675000 5000  *       Xkr4 \n",
       "3 chr1     4360001 4365000 5000  *       Rp1  \n",
       "4 chr1     4405001 4410000 5000  *       Rp1  \n",
       "5 chr1     4490001 4495000 5000  *       Sox17\n",
       "6 chr1     4495001 4500000 5000  *       Sox17"
      ]
     },
     "metadata": {},
     "output_type": "display_data"
    }
   ],
   "source": [
    "head(windows.5k.prom)"
   ]
  },
  {
   "cell_type": "code",
   "execution_count": 30,
   "metadata": {
    "scrolled": true
   },
   "outputs": [
    {
     "data": {
      "text/html": [
       "<table>\n",
       "<thead><tr><th scope=col>V1</th><th scope=col>width</th><th scope=col>strand</th><th scope=col>name</th></tr></thead>\n",
       "<tbody>\n",
       "\t<tr><td>chr1:1.7e+07-17005000 </td><td>5000                  </td><td>*                     </td><td> Jph1                 </td></tr>\n",
       "\t<tr><td>chr1:17095000-17100000</td><td>5000                  </td><td>*                     </td><td> Jph1                 </td></tr>\n",
       "</tbody>\n",
       "</table>\n"
      ],
      "text/latex": [
       "\\begin{tabular}{r|llll}\n",
       " V1 & width & strand & name\\\\\n",
       "\\hline\n",
       "\t chr1:1.7e+07-17005000  & 5000                   & *                      &  Jph1                 \\\\\n",
       "\t chr1:17095000-17100000 & 5000                   & *                      &  Jph1                 \\\\\n",
       "\\end{tabular}\n"
      ],
      "text/markdown": [
       "\n",
       "V1 | width | strand | name | \n",
       "|---|---|\n",
       "| chr1:1.7e+07-17005000  | 5000                   | *                      |  Jph1                  | \n",
       "| chr1:17095000-17100000 | 5000                   | *                      |  Jph1                  | \n",
       "\n",
       "\n"
      ],
      "text/plain": [
       "  V1                     width strand name \n",
       "1 chr1:1.7e+07-17005000  5000  *       Jph1\n",
       "2 chr1:17095000-17100000 5000  *       Jph1"
      ]
     },
     "metadata": {},
     "output_type": "display_data"
    }
   ],
   "source": [
    "windows.5k.prom <- mutate_if(windows.5k.prom, is.numeric, as.integer)\n",
    "windows.5k.prom %>% mutate(start = start - 1) %>% filter(name == \" Jph1\") %>% unite(\"V1\", \n",
    "    1:2, sep = \":\") %>% unite(\"V1\", 1:2, sep = \"-\")"
   ]
  },
  {
   "cell_type": "code",
   "execution_count": 8,
   "metadata": {
    "scrolled": true
   },
   "outputs": [],
   "source": [
    ")\n",
    "windows.5k.prom<-(windows.5k.prom %>% mutate(seqnames = sub(\"chr\", \"\", seqnames), start = start - \n",
    "    1)%>%unite(\"V1\",1:2,sep = \":\"))%>%unite(\"V1\",1:2,sep=\"-\")"
   ]
  },
  {
   "cell_type": "code",
   "execution_count": 10,
   "metadata": {},
   "outputs": [],
   "source": [
    "op.regions <- fread('./JYH_854_1_2/JYH_854_1_2.regions',header = F)"
   ]
  },
  {
   "cell_type": "code",
   "execution_count": 11,
   "metadata": {},
   "outputs": [
    {
     "data": {
      "text/html": [
       "<table>\n",
       "<thead><tr><th scope=col>V1</th></tr></thead>\n",
       "<tbody>\n",
       "\t<tr><td>1:10000000-10005000  </td></tr>\n",
       "\t<tr><td>1:100000000-100005000</td></tr>\n",
       "\t<tr><td>1:100005000-100010000</td></tr>\n",
       "\t<tr><td>1:100010000-100015000</td></tr>\n",
       "\t<tr><td>1:100015000-100020000</td></tr>\n",
       "\t<tr><td>1:100020000-100025000</td></tr>\n",
       "</tbody>\n",
       "</table>\n"
      ],
      "text/latex": [
       "\\begin{tabular}{r|l}\n",
       " V1\\\\\n",
       "\\hline\n",
       "\t 1:10000000-10005000  \\\\\n",
       "\t 1:100000000-100005000\\\\\n",
       "\t 1:100005000-100010000\\\\\n",
       "\t 1:100010000-100015000\\\\\n",
       "\t 1:100015000-100020000\\\\\n",
       "\t 1:100020000-100025000\\\\\n",
       "\\end{tabular}\n"
      ],
      "text/markdown": [
       "\n",
       "V1 | \n",
       "|---|---|---|---|---|---|\n",
       "| 1:10000000-10005000   | \n",
       "| 1:100000000-100005000 | \n",
       "| 1:100005000-100010000 | \n",
       "| 1:100010000-100015000 | \n",
       "| 1:100015000-100020000 | \n",
       "| 1:100020000-100025000 | \n",
       "\n",
       "\n"
      ],
      "text/plain": [
       "  V1                   \n",
       "1 1:10000000-10005000  \n",
       "2 1:100000000-100005000\n",
       "3 1:100005000-100010000\n",
       "4 1:100010000-100015000\n",
       "5 1:100015000-100020000\n",
       "6 1:100020000-100025000"
      ]
     },
     "metadata": {},
     "output_type": "display_data"
    }
   ],
   "source": [
    "head(op.regions)"
   ]
  },
  {
   "cell_type": "code",
   "execution_count": 12,
   "metadata": {},
   "outputs": [
    {
     "data": {
      "text/html": [
       "40999"
      ],
      "text/latex": [
       "40999"
      ],
      "text/markdown": [
       "40999"
      ],
      "text/plain": [
       "[1] 40999"
      ]
     },
     "metadata": {},
     "output_type": "display_data"
    },
    {
     "data": {
      "text/html": [
       "43790"
      ],
      "text/latex": [
       "43790"
      ],
      "text/markdown": [
       "43790"
      ],
      "text/plain": [
       "[1] 43790"
      ]
     },
     "metadata": {},
     "output_type": "display_data"
    },
    {
     "data": {
      "text/html": [
       "<table>\n",
       "<thead><tr><th scope=col>V1</th><th scope=col>width</th><th scope=col>strand</th><th scope=col>name</th></tr></thead>\n",
       "<tbody>\n",
       "\t<tr><td>1:3215000-3220000</td><td>5000             </td><td>*                </td><td> Xkr4            </td></tr>\n",
       "\t<tr><td>1:3670000-3675000</td><td>5000             </td><td>*                </td><td> Xkr4            </td></tr>\n",
       "\t<tr><td>1:4360000-4365000</td><td>5000             </td><td>*                </td><td> Rp1             </td></tr>\n",
       "\t<tr><td>1:4405000-4410000</td><td>5000             </td><td>*                </td><td> Rp1             </td></tr>\n",
       "\t<tr><td>1:4490000-4495000</td><td>5000             </td><td>*                </td><td> Sox17           </td></tr>\n",
       "\t<tr><td>1:4495000-4500000</td><td>5000             </td><td>*                </td><td> Sox17           </td></tr>\n",
       "</tbody>\n",
       "</table>\n"
      ],
      "text/latex": [
       "\\begin{tabular}{r|llll}\n",
       " V1 & width & strand & name\\\\\n",
       "\\hline\n",
       "\t 1:3215000-3220000 & 5000              & *                 &  Xkr4            \\\\\n",
       "\t 1:3670000-3675000 & 5000              & *                 &  Xkr4            \\\\\n",
       "\t 1:4360000-4365000 & 5000              & *                 &  Rp1             \\\\\n",
       "\t 1:4405000-4410000 & 5000              & *                 &  Rp1             \\\\\n",
       "\t 1:4490000-4495000 & 5000              & *                 &  Sox17           \\\\\n",
       "\t 1:4495000-4500000 & 5000              & *                 &  Sox17           \\\\\n",
       "\\end{tabular}\n"
      ],
      "text/markdown": [
       "\n",
       "V1 | width | strand | name | \n",
       "|---|---|---|---|---|---|\n",
       "| 1:3215000-3220000 | 5000              | *                 |  Xkr4             | \n",
       "| 1:3670000-3675000 | 5000              | *                 |  Xkr4             | \n",
       "| 1:4360000-4365000 | 5000              | *                 |  Rp1              | \n",
       "| 1:4405000-4410000 | 5000              | *                 |  Rp1              | \n",
       "| 1:4490000-4495000 | 5000              | *                 |  Sox17            | \n",
       "| 1:4495000-4500000 | 5000              | *                 |  Sox17            | \n",
       "\n",
       "\n"
      ],
      "text/plain": [
       "  V1                width strand name  \n",
       "1 1:3215000-3220000 5000  *       Xkr4 \n",
       "2 1:3670000-3675000 5000  *       Xkr4 \n",
       "3 1:4360000-4365000 5000  *       Rp1  \n",
       "4 1:4405000-4410000 5000  *       Rp1  \n",
       "5 1:4490000-4495000 5000  *       Sox17\n",
       "6 1:4495000-4500000 5000  *       Sox17"
      ]
     },
     "metadata": {},
     "output_type": "display_data"
    }
   ],
   "source": [
    "sum(op.regions$V1 %in% windows.5k.prom$V1)\n",
    "nrow(windows.5k.prom)\n",
    "head(windows.5k.prom)\n",
    "\n",
    "\n",
    "write.table(windows.5k.prom[, c(1, 4)], \"~/data/GENOME/mm10/gencode.vM17.5kb_tr_promoter_names.txt\", \n",
    "    sep = \"\\t\", row.names = F, col.names = F, quote = F)"
   ]
  },
  {
   "cell_type": "code",
   "execution_count": null,
   "metadata": {},
   "outputs": [],
   "source": []
  }
 ],
 "metadata": {
  "kernelspec": {
   "display_name": "R",
   "language": "R",
   "name": "ir"
  },
  "language_info": {
   "codemirror_mode": "r",
   "file_extension": ".r",
   "mimetype": "text/x-r-source",
   "name": "R",
   "pygments_lexer": "r",
   "version": "3.5.1"
  }
 },
 "nbformat": 4,
 "nbformat_minor": 2
}
