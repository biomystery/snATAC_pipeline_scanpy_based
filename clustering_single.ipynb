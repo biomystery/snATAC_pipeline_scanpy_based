{
 "cells": [
  {
   "cell_type": "code",
   "execution_count": null,
   "metadata": {
    "scrolled": false
   },
   "outputs": [],
   "source": [
    "import os\n",
    "import re\n",
    "import gzip\n",
    "import numpy as np\n",
    "import pandas as pd\n",
    "import scanpy.api as sc\n",
    "import matplotlib.pyplot as plt\n",
    "import math\n",
    "import seaborn as sns\n",
    "import umap\n",
    "import statsmodels.api as sm\n",
    "import sklearn.preprocessing\n",
    "import scipy\n",
    "import scipy.sparse\n",
    "import sklearn.metrics\n",
    "import sklearn.mixture\n",
    "import sklearn.linear_model\n",
    "from anndata import AnnData\n",
    "sc.settings.set_figure_params(dpi=100)\n",
    "sc.settings.verbosity = 3  # verbosity: errors (0), warnings (1), info (2), hints (3)\n",
    "#%load_ext rpy2.ipython\n",
    "sns.set(font_scale=1.5)\n",
    "plt.style.use('seaborn-white')\n",
    "%matplotlib inline\n",
    "import sklearn.mixture\n",
    "\n",
    "\n",
    "sc.logging.print_versions()"
   ]
  },
  {
   "cell_type": "code",
   "execution_count": null,
   "metadata": {
    "tags": [
     "parameters"
    ]
   },
   "outputs": [],
   "source": [
    "sample_name = 'OTX'\n",
    "min_usable_reads=1000\n",
    "min_frop=.01"
   ]
  },
  {
   "cell_type": "markdown",
   "metadata": {},
   "source": [
    "# Run one individual sample"
   ]
  },
  {
   "cell_type": "markdown",
   "metadata": {},
   "source": [
    "## Processing & clustering\n",
    "Combine the data and QC matrics "
   ]
  },
  {
   "cell_type": "code",
   "execution_count": null,
   "metadata": {
    "scrolled": true
   },
   "outputs": [],
   "source": [
    "wd = os.path.join(os.getcwd(),sample_name)\n",
    "sp = scipy.io.mmread(os.path.join(wd, '{}.mtx'.format(sample_name))).tocsr()\n",
    "regions = open(os.path.join(\n",
    "    wd, '{}.regions'.format(sample_name))).read().splitlines()\n",
    "barcodes = open(os.path.join(\n",
    "    wd, '{}.barcodes'.format(sample_name))).read().splitlines()\n",
    "adata = AnnData(sp, {'obs_names': barcodes}, {'var_names': regions})\n",
    "metrics = pd.read_table(os.path.join(wd,\n",
    "                                     '{}.qc_metrics.txt'.format(sample_name)),\n",
    "                        sep='\\t',\n",
    "                        header=0,\n",
    "                        index_col=0)\n",
    "adata.obs = adata.obs.join(metrics, how='inner')\n",
    "adata.obs['log10_unique_usable_reads'] = np.log10(\n",
    "    adata.obs['unique_usable_reads'] + 1)"
   ]
  },
  {
   "cell_type": "markdown",
   "metadata": {},
   "source": [
    "filtering on both minimal usable reads and FRoP"
   ]
  },
  {
   "cell_type": "code",
   "execution_count": null,
   "metadata": {},
   "outputs": [],
   "source": [
    "adata\n",
    "adata = adata[adata.obs['unique_usable_reads']>int(min_usable_reads)]\n",
    "adata = adata[adata.obs['frac_reads_in_promoters']>float(min_frop)]\n",
    "adata"
   ]
  },
  {
   "cell_type": "markdown",
   "metadata": {},
   "source": [
    "Annotate genomic bins that have promoter"
   ]
  },
  {
   "cell_type": "code",
   "execution_count": null,
   "metadata": {
    "scrolled": true
   },
   "outputs": [],
   "source": [
    "#low_frip = open(os.path.join(wd, '{}.lowfrip'.format(sample_name))).read().splitlines()\n",
    "#adata = adata[(~adata.obs.index.isin(low_frip)),:].copy()\n",
    "promoters = pd.read_table(\n",
    "    '/home/zhc268/data/GENOME/mm10/gencode.vM17.5kb_tr_promoter_names.txt',\n",
    "    sep='\\t',\n",
    "    header=None,\n",
    "    index_col=0,\n",
    "    names=['prom'])\n",
    "promoter_names = promoters['prom'].to_dict()\n",
    "adata.var.index = [\n",
    "    promoter_names[b] if b in promoter_names else b for b in adata.var.index\n",
    "]\n",
    "adata.var_names_make_unique(join='.')\n"
   ]
  },
  {
   "cell_type": "markdown",
   "metadata": {},
   "source": [
    "normalize to total 10k counts per cell"
   ]
  },
  {
   "cell_type": "code",
   "execution_count": null,
   "metadata": {},
   "outputs": [],
   "source": [
    "adata.var_names.is_unique\n",
    "adata.raw = sc.pp.log1p(adata, copy=True)\n",
    "adata_orig = adata.copy()\n",
    "sc.pp.normalize_per_cell(adata, counts_per_cell_after=1e4)\n"
   ]
  },
  {
   "cell_type": "markdown",
   "metadata": {},
   "source": [
    "Select most vairable bins, regress out total reads and then clustering"
   ]
  },
  {
   "cell_type": "code",
   "execution_count": null,
   "metadata": {},
   "outputs": [],
   "source": [
    "# https://github.com/theislab/scanpy/issues/450\n",
    "adata_filter = sc.pp.filter_genes_dispersion(adata.X,\n",
    "                                             flavor='seurat',\n",
    "                                             n_bins=20)\n",
    "\n",
    "\n",
    "hvgs = adata.var.loc[adata_filter.gene_subset].index.tolist()\n",
    "adata = adata[:, adata.var.index.isin(hvgs)]\n",
    "sc.pp.normalize_per_cell(adata, counts_per_cell_after=1e4)\n",
    "\n",
    "adata.obs['log10_usable_counts'] = np.log10(\n",
    "    adata_orig[:, adata_orig.var.index.isin(hvgs)].X.sum(axis=1).A1)\n",
    "adata_orig = None\n",
    "\n",
    "sc.pp.log1p(adata)\n",
    "sc.pp.regress_out(adata, ['log10_usable_counts'])\n",
    "sc.pp.scale(adata)\n",
    "sc.tl.pca(adata, zero_center=False, random_state=0)\n",
    "sc.pp.neighbors(adata,\n",
    "                n_neighbors=30,\n",
    "                method='umap',\n",
    "                metric='cosine',\n",
    "                random_state=0,\n",
    "                n_pcs=50)\n",
    "sc.tl.leiden(adata, resolution=1, random_state=0)\n",
    "sc.tl.umap(adata, min_dist=0.3, random_state=0)"
   ]
  },
  {
   "cell_type": "markdown",
   "metadata": {},
   "source": [
    "## Clustering results\n",
    "### Examine how many cells per cluster"
   ]
  },
  {
   "cell_type": "code",
   "execution_count": null,
   "metadata": {},
   "outputs": [],
   "source": [
    "adata.obs.leiden.value_counts()"
   ]
  },
  {
   "cell_type": "markdown",
   "metadata": {},
   "source": [
    "### Umap"
   ]
  },
  {
   "cell_type": "code",
   "execution_count": null,
   "metadata": {
    "scrolled": false
   },
   "outputs": [],
   "source": [
    "sc.pl.umap(adata,\n",
    "           color=['leiden'],\n",
    "           size=9,\n",
    "           title='Final clusters',\n",
    "           legend_loc='on data')"
   ]
  },
  {
   "cell_type": "markdown",
   "metadata": {},
   "source": [
    "### QC metrics"
   ]
  },
  {
   "cell_type": "code",
   "execution_count": null,
   "metadata": {},
   "outputs": [],
   "source": [
    "fig, axs = plt.subplots(2, 3, figsize=(12, 6),sharex=True)\n",
    "i=0\n",
    "to_plot=[\n",
    "        'log10_usable_counts','frac_reads_in_peaks', 'frac_reads_in_promoters',\n",
    "        'frac_promoters_used', 'frac_mito_reads', 'frac_duplicated_reads'\n",
    "]\n",
    "\n",
    "for ax in axs.reshape(-1): \n",
    "    sns.boxplot(x='leiden', y=to_plot[i], data=adata.obs,ax=ax)\n",
    "    ax.set_xlabel('')\n",
    "    ax.set_ylabel('')\n",
    "    ax.set_title(to_plot[i])\n",
    "    i+=1\n",
    "plt.tight_layout()\n",
    "plt.show()"
   ]
  },
  {
   "cell_type": "code",
   "execution_count": null,
   "metadata": {},
   "outputs": [],
   "source": [
    "n_cluster = len(adata.obs.leiden.unique())\n",
    "n_row = math.ceil(n_cluster / 5)\n",
    "fig, axs = plt.subplots(n_row,\n",
    "                        5,\n",
    "                        figsize=(10, 2 * n_row),\n",
    "                        sharex=True,\n",
    "                        sharey=True)\n",
    "j = 0\n",
    "\n",
    "for ax in axs.reshape(-1):\n",
    "    if j >= n_cluster: \n",
    "        break\n",
    "    cols = ['red' if i == str(j) else 'grey' for i in adata.obs.leiden.tolist()]\n",
    "    \n",
    "    adata.obs.plot.scatter(x='log10_unique_usable_reads',\n",
    "                           y='frac_reads_in_promoters',\n",
    "                           s=2,\n",
    "                           c=cols,\n",
    "                           ax=ax)\n",
    "    ax.set_xlabel('')\n",
    "    ax.set_ylabel('')\n",
    "    ax.set_title(\"c{0}:{1} cells\".format(str(j),str(cols.count('red'))),fontdict={'fontsize':8})\n",
    "    j += 1\n",
    "\n",
    "# add a big axis, hide frame\n",
    "fig.add_subplot(111, frameon=False)\n",
    "# hide tick and tick label of the big axis\n",
    "plt.tick_params(labelcolor='none',\n",
    "                top=False,\n",
    "                bottom=False,\n",
    "                left=False,\n",
    "                right=False)\n",
    "plt.ylabel('FRoP')\n",
    "plt.xlabel('log10_unique_usable_reads')\n",
    "plt.tight_layout()\n",
    "plt.show()"
   ]
  },
  {
   "cell_type": "markdown",
   "metadata": {},
   "source": [
    "### Feature genes"
   ]
  },
  {
   "cell_type": "code",
   "execution_count": null,
   "metadata": {},
   "outputs": [],
   "source": [
    "sns.set(font_scale=1)\n",
    "plt.style.use('default')\n",
    "\n",
    "marker_genes_dic_2 = {\n",
    "    'Tcell': [\"Cd3e.1\", \"Cd4.1\", \"Cd8a\", 'Tcf7'],\n",
    "    'Macrophage': ['Adgre1', 'Eif4a1', 'RP23-144N15.4', 'Cx3cr1'],\n",
    "    'B_cells': [\n",
    "        \"Cd79b\",\n",
    "        \"Mzb1\",\n",
    "    ],\n",
    "    'Epithelial Cell': ['Krt19.1'],\n",
    "    'Fib': ['Col1a2', 'Col1a2.1', 'Col1a2.2', 'Col1a2.3', 'Col1a2.4', 'Acta2'],\n",
    "    'Neutrophil':\n",
    "    [\"Ly6g\", \"Cebpe\", \"Csf3r\", 'Lcn2', 'Ltf', 'S100a8', 'S100a9'],\n",
    "    'NK': ['Klrc1'],\n",
    "    'DCs': [\"Cd209a\", \"Cd74\", \"Flt3\", \"H2-Eb1\", 'Itgax'],  # 'Itgax'-> Cd11c\n",
    "    'MHC-II': [\"H2-Aa\", \"H2-Ab1\", \"H2-Eb1\"],  #\"\n",
    "}\n",
    "\n",
    "ax = sc.pl.matrixplot(adata,\n",
    "                      var_names=marker_genes_dic_2,\n",
    "                      cmap='Reds',\n",
    "                      dendrogram=True,\n",
    "                      groupby='leiden',\n",
    "                      use_raw=True)\n",
    "\n",
    "ax = sc.pl.matrixplot(adata,\n",
    "                      var_names=marker_genes_dic_2,\n",
    "                      cmap='Reds',\n",
    "                      dendrogram=True,\n",
    "                      groupby='leiden',\n",
    "                      standard_scale='var',\n",
    "                      use_raw=True)\n",
    "\n",
    "ax = sc.pl.dotplot(adata,\n",
    "                   marker_genes_dic_2,\n",
    "                   groupby='leiden',\n",
    "                   dendrogram=True,\n",
    "                   use_raw=True,\n",
    "                   expression_cutoff=0)"
   ]
  },
  {
   "cell_type": "code",
   "execution_count": null,
   "metadata": {
    "scrolled": false
   },
   "outputs": [],
   "source": [
    "fig, axs = plt.subplots(2, 3, figsize=(12, 6), sharex=True)\n",
    "i = 0\n",
    "to_plot = [\n",
    "    'log10_usable_counts', 'frac_reads_in_peaks', 'frac_reads_in_promoters',\n",
    "    'frac_promoters_used', 'frac_mito_reads', 'frac_duplicated_reads'\n",
    "]\n",
    "for ax in axs.reshape(-1):\n",
    "    sc.pl.umap(adata,\n",
    "               color=to_plot[i],\n",
    "               cmap='Blues' if i==0 else'Reds',\n",
    "               size=9,\n",
    "               ax=ax,\n",
    "               show=False,\n",
    "               legend_loc='on data')\n",
    "    i+=1\n",
    "\n",
    "plt.tight_layout()\n",
    "plt.show()"
   ]
  },
  {
   "cell_type": "code",
   "execution_count": null,
   "metadata": {},
   "outputs": [],
   "source": [
    "import json\n",
    "with open('./marker_genes_gecodeVm17_tr.json','r') as f:\n",
    "    marker_genes_dic = json.load(f)\n",
    "    \n",
    "for cell_type, markers in marker_genes_dic.items():\n",
    "    try:\n",
    "        print(cell_type + \" markers:\", markers)\n",
    "        sc.pl.umap(adata,\n",
    "                   color=[\n",
    "                       x for x in adata.raw.var_names\n",
    "                       if re.sub(r'\\.[0-9]+', '', x) in markers\n",
    "                   ],\n",
    "                   size=9,\n",
    "                   color_map='Blues',\n",
    "                   frameon=True,\n",
    "                   use_raw=True)\n",
    "    except:\n",
    "        pass"
   ]
  },
  {
   "cell_type": "markdown",
   "metadata": {},
   "source": [
    "## Save data"
   ]
  },
  {
   "cell_type": "code",
   "execution_count": null,
   "metadata": {},
   "outputs": [],
   "source": [
    "adata.write(filename=os.path.join(wd, '{}.adata.h5ad'.format(sample_name)))\n",
    "adata\n"
   ]
  }
 ],
 "metadata": {
  "celltoolbar": "Tags",
  "kernelspec": {
   "display_name": "Python 3",
   "language": "python",
   "name": "python3"
  },
  "language_info": {
   "codemirror_mode": {
    "name": "ipython",
    "version": 3
   },
   "file_extension": ".py",
   "mimetype": "text/x-python",
   "name": "python",
   "nbconvert_exporter": "python",
   "pygments_lexer": "ipython3",
   "version": "3.6.7"
  }
 },
 "nbformat": 4,
 "nbformat_minor": 2
}
