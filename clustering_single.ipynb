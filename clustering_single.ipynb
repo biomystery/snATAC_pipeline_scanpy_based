{
 "cells": [
  {
   "cell_type": "code",
   "execution_count": null,
   "metadata": {
    "scrolled": false
   },
   "outputs": [],
   "source": [
    "import os\n",
    "import gzip\n",
    "import numpy as np\n",
    "import pandas as pd\n",
    "import scanpy.api as sc\n",
    "import matplotlib.pyplot as plt\n",
    "import seaborn as sns\n",
    "import umap\n",
    "import statsmodels.api as sm\n",
    "import sklearn.preprocessing\n",
    "import scipy\n",
    "import scipy.sparse\n",
    "import sklearn.metrics\n",
    "import sklearn.mixture\n",
    "import sklearn.linear_model\n",
    "from anndata import AnnData\n",
    "sc.settings.set_figure_params(dpi=100)\n",
    "sc.settings.verbosity = 3  # verbosity: errors (0), warnings (1), info (2), hints (3)\n",
    "#%load_ext rpy2.ipython\n",
    "sns.set(font_scale=1.5)\n",
    "plt.style.use('seaborn-white')\n",
    "%matplotlib inline\n",
    "import sklearn.mixture\n",
    "\n",
    "\n",
    "sc.logging.print_versions()"
   ]
  },
  {
   "cell_type": "code",
   "execution_count": null,
   "metadata": {
    "tags": [
     "parameters"
    ]
   },
   "outputs": [],
   "source": [
    "sample_name = 'OTX'\n",
    "min_usable_reads=1000"
   ]
  },
  {
   "cell_type": "markdown",
   "metadata": {},
   "source": [
    "# Read depth distribution"
   ]
  },
  {
   "cell_type": "code",
   "execution_count": null,
   "metadata": {},
   "outputs": [],
   "source": [
    "wd = os.path.join(os.getcwd(),sample_name)\n",
    "\n",
    "qc = pd.read_table(os.path.join(wd, '{}.qc_metrics.txt'.format(sample_name)),\n",
    "                   sep='\\t',\n",
    "                   header=0,\n",
    "                   index_col=0)\n",
    "qc['log10_unique_usable_reads'] = np.log10(qc['unique_usable_reads'] + 1)\n",
    "qc = qc[qc['log10_unique_usable_reads']>np.log10(50)]\n",
    "qc = qc.sort_values('log10_unique_usable_reads')\n"
   ]
  },
  {
   "cell_type": "markdown",
   "metadata": {},
   "source": [
    "# Run one individual sample"
   ]
  },
  {
   "cell_type": "code",
   "execution_count": null,
   "metadata": {
    "scrolled": true
   },
   "outputs": [],
   "source": [
    "#sample_name = 'A0016'\n",
    "#wd = '/home/joshchiou/joshchiou-data2/biobank_snATAC/{}'.format(sample_name)\n",
    "sp = scipy.io.mmread(os.path.join(wd, '{}.mtx'.format(sample_name))).tocsr()\n",
    "regions = open(os.path.join(\n",
    "    wd, '{}.regions'.format(sample_name))).read().splitlines()\n",
    "barcodes = open(os.path.join(\n",
    "    wd, '{}.barcodes'.format(sample_name))).read().splitlines()\n",
    "adata = AnnData(sp, {'obs_names': barcodes}, {'var_names': regions})\n",
    "metrics = pd.read_table(os.path.join(wd,\n",
    "                                     '{}.qc_metrics.txt'.format(sample_name)),\n",
    "                        sep='\\t',\n",
    "                        header=0,\n",
    "                        index_col=0)\n",
    "adata.obs = adata.obs.join(metrics, how='inner')"
   ]
  },
  {
   "cell_type": "code",
   "execution_count": null,
   "metadata": {},
   "outputs": [],
   "source": [
    "adata = adata[adata.obs['unique_usable_reads']>int(min_usable_reads)]\n",
    "adata"
   ]
  },
  {
   "cell_type": "code",
   "execution_count": null,
   "metadata": {
    "scrolled": true
   },
   "outputs": [],
   "source": [
    "#low_frip = open(os.path.join(wd, '{}.lowfrip'.format(sample_name))).read().splitlines()\n",
    "#adata = adata[(~adata.obs.index.isin(low_frip)),:].copy()\n",
    "promoters = pd.read_table(\n",
    "    '/home/zhc268/data/GENOME/mm10/gencode.vM17.5kb_tr_promoter_names.txt',\n",
    "    sep='\\t',\n",
    "    header=None,\n",
    "    index_col=0,\n",
    "    names=['prom'])\n",
    "promoter_names = promoters['prom'].to_dict()\n",
    "adata.var.index = [\n",
    "    promoter_names[b] if b in promoter_names else b for b in adata.var.index\n",
    "]\n",
    "adata.var_names_make_unique(join='.')\n"
   ]
  },
  {
   "cell_type": "code",
   "execution_count": null,
   "metadata": {},
   "outputs": [],
   "source": [
    "adata.var_names.is_unique\n",
    "adata.raw = sc.pp.log1p(adata, copy=True)\n",
    "adata_orig = adata.copy()\n",
    "sc.pp.normalize_per_cell(adata, counts_per_cell_after=1e4)\n"
   ]
  },
  {
   "cell_type": "code",
   "execution_count": null,
   "metadata": {
    "scrolled": false
   },
   "outputs": [],
   "source": [
    "# https://github.com/theislab/scanpy/issues/450\n",
    "adata_filter = sc.pp.filter_genes_dispersion(adata.X,\n",
    "                                             flavor='seurat',\n",
    "                                             n_bins=20)\n"
   ]
  },
  {
   "cell_type": "code",
   "execution_count": null,
   "metadata": {},
   "outputs": [],
   "source": [
    "hvgs = adata.var.loc[adata_filter.gene_subset].index.tolist()\n",
    "adata = adata[:, adata.var.index.isin(hvgs)]\n",
    "sc.pp.normalize_per_cell(adata, counts_per_cell_after=1e4)\n",
    "\n",
    "adata.obs['log10_usable_counts'] = np.log10(\n",
    "    adata_orig[:, adata_orig.var.index.isin(hvgs)].X.sum(axis=1).A1)\n",
    "adata_orig = None\n",
    "\n",
    "sc.pp.log1p(adata)\n",
    "sc.pp.regress_out(adata, ['log10_usable_counts'])\n",
    "sc.pp.scale(adata)\n",
    "sc.tl.pca(adata, zero_center=False, random_state=0)\n",
    "sc.pp.neighbors(adata,\n",
    "                n_neighbors=30,\n",
    "                method='umap',\n",
    "                metric='cosine',\n",
    "                random_state=0,\n",
    "                n_pcs=50)\n"
   ]
  },
  {
   "cell_type": "code",
   "execution_count": null,
   "metadata": {},
   "outputs": [],
   "source": [
    "sc.tl.leiden(adata, resolution=1, random_state=0)\n",
    "sc.tl.umap(adata, min_dist=0.3, random_state=0)\n",
    "adata.write(filename=os.path.join(wd, '{}.adata.h5ad'.format(sample_name)))\n"
   ]
  },
  {
   "cell_type": "code",
   "execution_count": null,
   "metadata": {},
   "outputs": [],
   "source": [
    "adata.obs.leiden.value_counts()"
   ]
  },
  {
   "cell_type": "code",
   "execution_count": null,
   "metadata": {
    "scrolled": false
   },
   "outputs": [],
   "source": [
    "sc.pl.umap(adata,\n",
    "           color=['leiden'],\n",
    "           size=9,\n",
    "           title='Final clusters',\n",
    "           legend_loc='on data')"
   ]
  },
  {
   "cell_type": "code",
   "execution_count": null,
   "metadata": {},
   "outputs": [],
   "source": [
    "fig, axs = plt.subplots(2, 3, figsize=(12, 6),sharex=True)\n",
    "i=0\n",
    "to_plot=[\n",
    "        'log10_usable_counts','frac_reads_in_peaks', 'frac_reads_in_promoters',\n",
    "        'frac_promoters_used', 'frac_mito_reads', 'frac_duplicated_reads'\n",
    "]\n",
    "\n",
    "for ax in axs.reshape(-1): \n",
    "    sns.boxplot(x='leiden', y=to_plot[i], data=adata.obs,ax=ax)\n",
    "    ax.set_xlabel('')\n",
    "    ax.set_ylabel('')\n",
    "    ax.set_title(to_plot[i])\n",
    "    i+=1\n",
    "plt.tight_layout()\n",
    "plt.show()"
   ]
  },
  {
   "cell_type": "markdown",
   "metadata": {},
   "source": [
    "sc.tl.louvain(adata,\n",
    "              restrict_to=('leiden', ['5']),\n",
    "              resolution=1.5,\n",
    "              random_state=0,\n",
    "              key_added='subset')\n",
    "\n",
    "sc.pl.umap(adata,\n",
    "           color=['subset'],\n",
    "           size=9,\n",
    "           title='Final clusters',\n",
    "           legend_loc='on data')\n",
    "sc.pl.umap(adata,\n",
    "           color=['log10_usable_counts'],\n",
    "           title='log10(read depth)',\n",
    "           size=9,\n",
    "           color_map='Blues')\n",
    "\n",
    "fig, ax1 = plt.subplots(1, 1, figsize=(9, 5))\n",
    "sns.boxplot(x='subset', y='log10_usable_counts', data=adata.obs)\n",
    "ax1.set_xlabel('')\n",
    "ax1.set_ylabel('log10(read depth)')\n",
    "plt.show()\n"
   ]
  },
  {
   "cell_type": "code",
   "execution_count": null,
   "metadata": {
    "scrolled": false
   },
   "outputs": [],
   "source": [
    "sc.pl.umap(adata,color=['log10_usable_counts'],\n",
    "           title='log10(read depth)',\n",
    "           size=9,\n",
    "           color_map='Blues')\n",
    "sc.pl.umap(adata, color=['frac_reads_in_peaks'], cmap='Reds', size=9, legend_loc='on data')\n",
    "sc.pl.umap(adata, color=['frac_reads_in_promoters'], cmap='Reds', size=9, legend_loc='on data')\n",
    "sc.pl.umap(adata, color=['frac_promoters_used'], cmap='Reds', size=9, legend_loc='on data')\n",
    "sc.pl.umap(adata, color=['frac_mito_reads'], cmap='Reds', size=9, legend_loc='on data')\n",
    "sc.pl.umap(adata, color=['frac_duplicated_reads'], cmap='Reds', size=9, legend_loc='on data')"
   ]
  },
  {
   "cell_type": "code",
   "execution_count": null,
   "metadata": {},
   "outputs": [],
   "source": [
    "# T cell \n",
    "\n",
    "sc.pl.umap(adata,\n",
    "           color=[\" Cd3e\", \" Cd4\", \" Cd8a\"           ],\n",
    "           size=9,\n",
    "           color_map='Blues',\n",
    "           frameon=True,\n",
    "           use_raw=True)"
   ]
  },
  {
   "cell_type": "code",
   "execution_count": null,
   "metadata": {},
   "outputs": [],
   "source": [
    "# Cd4+ T cell \n",
    "\n",
    "sc.pl.umap(adata,\n",
    "           color=[\" Cd4\", \" Igfbp4\", \" Tcf7\",   ],#\" Trbc2\"  \n",
    "           size=9,\n",
    "           color_map='Blues',\n",
    "           frameon=True,\n",
    "           use_raw=True)"
   ]
  },
  {
   "cell_type": "code",
   "execution_count": null,
   "metadata": {
    "scrolled": false
   },
   "outputs": [],
   "source": [
    "# cd8+ T\n",
    "sc.pl.umap(adata,\n",
    "           color=[\n",
    "               ' Cd8a',\n",
    "               ' Cd8b1',\n",
    "               ' Nkg7',\n",
    "           ],\n",
    "           size=9,\n",
    "           color_map='Blues',\n",
    "           frameon=True,\n",
    "           use_raw=True)"
   ]
  },
  {
   "cell_type": "code",
   "execution_count": null,
   "metadata": {},
   "outputs": [],
   "source": [
    "# CXCR6+ T cell\n",
    "\n",
    "sc.pl.umap(adata,\n",
    "           color=[\" Cd3g\", \" Cxcr6\", \" Icos\", \" Il7r\"],\n",
    "           size=9,\n",
    "           color_map='Blues',\n",
    "           frameon=True,\n",
    "           use_raw=True)\n"
   ]
  },
  {
   "cell_type": "code",
   "execution_count": null,
   "metadata": {},
   "outputs": [],
   "source": [
    "# macrophage\n",
    "\n",
    "sc.pl.umap(adata,\n",
    "           color=[\" Adgre1\", \" Cd14\", \" Csf1r\", \" Fcgr1\"],\n",
    "           size=9,\n",
    "           color_map='Blues',\n",
    "           frameon=True,\n",
    "           use_raw=True)\n"
   ]
  },
  {
   "cell_type": "code",
   "execution_count": null,
   "metadata": {},
   "outputs": [],
   "source": [
    "# MHCII\n",
    "\n",
    "sc.pl.umap(adata,\n",
    "           color=[\" H2-Ab1\", \" H2-Aa\", \" H2-Ob\", \" H2-Eb1\"],\n",
    "           size=9,\n",
    "           color_map='Blues',\n",
    "           frameon=True,\n",
    "           use_raw=True)\n"
   ]
  },
  {
   "cell_type": "code",
   "execution_count": null,
   "metadata": {},
   "outputs": [],
   "source": [
    "# Bcells\n",
    "sc.pl.umap(adata,               \n",
    "           color=[\" Cd79a\",\" Cd79b\",\" Ly6d\", \" Mzb1\",' Cd19'],\n",
    "           size=9,\n",
    "           color_map='Blues',\n",
    "           frameon=True,\n",
    "           use_raw=True)\n"
   ]
  },
  {
   "cell_type": "code",
   "execution_count": null,
   "metadata": {},
   "outputs": [],
   "source": [
    "# DCs\n",
    "sc.pl.umap(adata,               \n",
    "           color=[\" Cd209a\", \" Cd74\", \" Flt3\", \" H2-Eb1\"],\n",
    "           size=9,\n",
    "           color_map='Blues',\n",
    "           frameon=True,\n",
    "           use_raw=True)\n"
   ]
  },
  {
   "cell_type": "code",
   "execution_count": null,
   "metadata": {},
   "outputs": [],
   "source": [
    "adata.shape"
   ]
  }
 ],
 "metadata": {
  "celltoolbar": "Tags",
  "kernelspec": {
   "display_name": "Python 3",
   "language": "python",
   "name": "python3"
  },
  "language_info": {
   "codemirror_mode": {
    "name": "ipython",
    "version": 3
   },
   "file_extension": ".py",
   "mimetype": "text/x-python",
   "name": "python",
   "nbconvert_exporter": "python",
   "pygments_lexer": "ipython3",
   "version": "3.6.7"
  }
 },
 "nbformat": 4,
 "nbformat_minor": 2
}
